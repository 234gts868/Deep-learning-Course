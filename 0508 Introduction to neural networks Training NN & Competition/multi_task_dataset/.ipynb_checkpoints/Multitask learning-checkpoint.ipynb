{
 "cells": [
  {
   "cell_type": "code",
   "execution_count": 7,
   "metadata": {},
   "outputs": [],
   "source": [
    "import pandas as pd\n",
    "import numpy as np\n",
    "import tensorflow as tf\n",
    "import matplotlib.pyplot as plt\n",
    "from tensorflow.keras import utils"
   ]
  },
  {
   "cell_type": "code",
   "execution_count": 8,
   "metadata": {},
   "outputs": [
    {
     "data": {
      "text/html": [
       "<div>\n",
       "<style scoped>\n",
       "    .dataframe tbody tr th:only-of-type {\n",
       "        vertical-align: middle;\n",
       "    }\n",
       "\n",
       "    .dataframe tbody tr th {\n",
       "        vertical-align: top;\n",
       "    }\n",
       "\n",
       "    .dataframe thead th {\n",
       "        text-align: right;\n",
       "    }\n",
       "</style>\n",
       "<table border=\"1\" class=\"dataframe\">\n",
       "  <thead>\n",
       "    <tr style=\"text-align: right;\">\n",
       "      <th></th>\n",
       "      <th>left_eye_x</th>\n",
       "      <th>right_eye_x</th>\n",
       "      <th>nose_x</th>\n",
       "      <th>left_mouth_x</th>\n",
       "      <th>right_mouth_x</th>\n",
       "      <th>left_eye_y</th>\n",
       "      <th>right_eye_y</th>\n",
       "      <th>nose_y</th>\n",
       "      <th>left_mouth_y</th>\n",
       "      <th>right_mouth_y</th>\n",
       "      <th>gender</th>\n",
       "      <th>smile</th>\n",
       "      <th>glasses</th>\n",
       "      <th>head_pose</th>\n",
       "      <th>path</th>\n",
       "    </tr>\n",
       "  </thead>\n",
       "  <tbody>\n",
       "    <tr>\n",
       "      <th>0</th>\n",
       "      <td>0.429</td>\n",
       "      <td>0.591</td>\n",
       "      <td>0.505</td>\n",
       "      <td>0.425</td>\n",
       "      <td>0.563</td>\n",
       "      <td>0.435</td>\n",
       "      <td>0.453</td>\n",
       "      <td>0.575</td>\n",
       "      <td>0.635</td>\n",
       "      <td>0.651</td>\n",
       "      <td>1.0</td>\n",
       "      <td>2.0</td>\n",
       "      <td>2.0</td>\n",
       "      <td>3.0</td>\n",
       "      <td>lfw_5590/Aaron_Eckhart_0001.jpg</td>\n",
       "    </tr>\n",
       "    <tr>\n",
       "      <th>1</th>\n",
       "      <td>0.405</td>\n",
       "      <td>0.587</td>\n",
       "      <td>0.501</td>\n",
       "      <td>0.375</td>\n",
       "      <td>0.559</td>\n",
       "      <td>0.449</td>\n",
       "      <td>0.471</td>\n",
       "      <td>0.551</td>\n",
       "      <td>0.643</td>\n",
       "      <td>0.659</td>\n",
       "      <td>1.0</td>\n",
       "      <td>1.0</td>\n",
       "      <td>2.0</td>\n",
       "      <td>3.0</td>\n",
       "      <td>lfw_5590/Aaron_Guiel_0001.jpg</td>\n",
       "    </tr>\n",
       "    <tr>\n",
       "      <th>2</th>\n",
       "      <td>0.431</td>\n",
       "      <td>0.591</td>\n",
       "      <td>0.521</td>\n",
       "      <td>0.437</td>\n",
       "      <td>0.591</td>\n",
       "      <td>0.457</td>\n",
       "      <td>0.457</td>\n",
       "      <td>0.563</td>\n",
       "      <td>0.617</td>\n",
       "      <td>0.615</td>\n",
       "      <td>1.0</td>\n",
       "      <td>1.0</td>\n",
       "      <td>2.0</td>\n",
       "      <td>3.0</td>\n",
       "      <td>lfw_5590/Aaron_Peirsol_0001.jpg</td>\n",
       "    </tr>\n",
       "    <tr>\n",
       "      <th>3</th>\n",
       "      <td>0.411</td>\n",
       "      <td>0.585</td>\n",
       "      <td>0.505</td>\n",
       "      <td>0.483</td>\n",
       "      <td>0.589</td>\n",
       "      <td>0.471</td>\n",
       "      <td>0.419</td>\n",
       "      <td>0.551</td>\n",
       "      <td>0.659</td>\n",
       "      <td>0.627</td>\n",
       "      <td>1.0</td>\n",
       "      <td>2.0</td>\n",
       "      <td>2.0</td>\n",
       "      <td>3.0</td>\n",
       "      <td>lfw_5590/Aaron_Pena_0001.jpg</td>\n",
       "    </tr>\n",
       "    <tr>\n",
       "      <th>4</th>\n",
       "      <td>0.409</td>\n",
       "      <td>0.579</td>\n",
       "      <td>0.523</td>\n",
       "      <td>0.401</td>\n",
       "      <td>0.573</td>\n",
       "      <td>0.453</td>\n",
       "      <td>0.451</td>\n",
       "      <td>0.555</td>\n",
       "      <td>0.625</td>\n",
       "      <td>0.623</td>\n",
       "      <td>1.0</td>\n",
       "      <td>1.0</td>\n",
       "      <td>2.0</td>\n",
       "      <td>3.0</td>\n",
       "      <td>lfw_5590/Aaron_Sorkin_0001.jpg</td>\n",
       "    </tr>\n",
       "  </tbody>\n",
       "</table>\n",
       "</div>"
      ],
      "text/plain": [
       "   left_eye_x  right_eye_x  nose_x  left_mouth_x  right_mouth_x  left_eye_y  \\\n",
       "0       0.429        0.591   0.505         0.425          0.563       0.435   \n",
       "1       0.405        0.587   0.501         0.375          0.559       0.449   \n",
       "2       0.431        0.591   0.521         0.437          0.591       0.457   \n",
       "3       0.411        0.585   0.505         0.483          0.589       0.471   \n",
       "4       0.409        0.579   0.523         0.401          0.573       0.453   \n",
       "\n",
       "   right_eye_y  nose_y  left_mouth_y  right_mouth_y  gender  smile  glasses  \\\n",
       "0        0.453   0.575         0.635          0.651     1.0    2.0      2.0   \n",
       "1        0.471   0.551         0.643          0.659     1.0    1.0      2.0   \n",
       "2        0.457   0.563         0.617          0.615     1.0    1.0      2.0   \n",
       "3        0.419   0.551         0.659          0.627     1.0    2.0      2.0   \n",
       "4        0.451   0.555         0.625          0.623     1.0    1.0      2.0   \n",
       "\n",
       "   head_pose                             path  \n",
       "0        3.0  lfw_5590/Aaron_Eckhart_0001.jpg  \n",
       "1        3.0    lfw_5590/Aaron_Guiel_0001.jpg  \n",
       "2        3.0  lfw_5590/Aaron_Peirsol_0001.jpg  \n",
       "3        3.0     lfw_5590/Aaron_Pena_0001.jpg  \n",
       "4        3.0   lfw_5590/Aaron_Sorkin_0001.jpg  "
      ]
     },
     "execution_count": 8,
     "metadata": {},
     "output_type": "execute_result"
    }
   ],
   "source": [
    "# Import training/test files in Pandas\n",
    "# CSV_COLUMN_NAMES = [\n",
    "#     'path','left_eye_x','right_eye_x','nose_x','left_mouth_x','right_mouth_x','left_eye_y','right_eye_y',\n",
    "#     'nose_y','left_mouth_y','right_mouth_y','gender','smile','glasses','head_pose']\n",
    "# train_data = pd.read_csv('training.txt', sep=' ',names=CSV_COLUMN_NAMES, header=None, skipinitialspace=True, nrows=10000)\n",
    "# test_data = pd.read_csv('testing.txt', sep=' ',names=CSV_COLUMN_NAMES, header=None, skipinitialspace=True, nrows=2995)\n",
    "# # Simple hack to replace \\ with /\n",
    "# train_data.iloc[:, 0] = train_data.iloc[:, 0].apply(lambda s: s.replace('\\\\', '/')) # Needed for filename convention\n",
    "# test_data.iloc[:, 0] = test_data.iloc[:, 0].apply(lambda s: s.replace('\\\\', '/')) # Needed for filename convention\n",
    "\n",
    "train_data = pd.read_csv('multi_task_dataset/train.csv')\n",
    "test_data = pd.read_csv('multi_task_dataset/test.csv')\n",
    "train_data.head()"
   ]
  },
  {
   "cell_type": "code",
   "execution_count": 3,
   "metadata": {},
   "outputs": [],
   "source": [
    "# Reads an image from a file, decodes it into a dense tensor, and resizes it\n",
    "# to a fixed shape.\n",
    "def _parse_function(filename):\n",
    "    image_string = tf.io.read_file(filename)\n",
    "    image_decoded = tf.image.decode_jpeg(image_string, channels=3) # Channels needed because some test images are b/w\n",
    "    image_resized = tf.image.resize(image_decoded, [40, 40])\n",
    "#     image_shape = tf.cast(tf.shape(image_decoded), tf.float32)\n",
    "    # 將位置轉換成比例\n",
    "#     label = tf.concat([label[0:5] / image_shape[0], label[5:10] / image_shape[1], label[10:]], axis=0)\n",
    "    return image_resized"
   ]
  },
  {
   "cell_type": "code",
   "execution_count": 4,
   "metadata": {},
   "outputs": [],
   "source": [
    "train_data_x = np.ndarray((len(train_data), 40, 40, 3))\n",
    "train_data_y = np.ndarray((len(train_data), 14))\n",
    "test_data_x = np.ndarray((len(test_data), 40, 40, 3))\n",
    "test_data_y = np.ndarray((len(test_data), 14))"
   ]
  },
  {
   "cell_type": "code",
   "execution_count": 5,
   "metadata": {},
   "outputs": [
    {
     "name": "stdout",
     "output_type": "stream",
     "text": [
      "[0.4289999902248383 0.5910000205039978 0.5049999952316284\n",
      " 0.42500001192092896 0.5630000233650208 0.4350000023841858\n",
      " 0.453000009059906 0.574999988079071 0.6349999904632568 0.6510000228881836\n",
      " 1.0 2.0 2.0 3.0 'lfw_5590/Aaron_Eckhart_0001.jpg']\n"
     ]
    }
   ],
   "source": [
    "for i, row in enumerate(train_data.values):\n",
    "    print(row)\n",
    "    break"
   ]
  },
  {
   "cell_type": "code",
   "execution_count": 6,
   "metadata": {},
   "outputs": [
    {
     "ename": "UnicodeDecodeError",
     "evalue": "'utf-8' codec can't decode byte 0xa8 in position 70: invalid start byte",
     "output_type": "error",
     "traceback": [
      "\u001b[1;31m---------------------------------------------------------------------------\u001b[0m",
      "\u001b[1;31m_FallbackException\u001b[0m                        Traceback (most recent call last)",
      "\u001b[1;32m~\\AppData\\Roaming\\Python\\Python37\\site-packages\\tensorflow_core\\python\\ops\\gen_io_ops.py\u001b[0m in \u001b[0;36mread_file\u001b[1;34m(filename, name)\u001b[0m\n\u001b[0;32m    548\u001b[0m         \u001b[0m_ctx\u001b[0m\u001b[1;33m.\u001b[0m\u001b[0m_context_handle\u001b[0m\u001b[1;33m,\u001b[0m \u001b[0mtld\u001b[0m\u001b[1;33m.\u001b[0m\u001b[0mdevice_name\u001b[0m\u001b[1;33m,\u001b[0m \u001b[1;34m\"ReadFile\"\u001b[0m\u001b[1;33m,\u001b[0m \u001b[0mname\u001b[0m\u001b[1;33m,\u001b[0m\u001b[1;33m\u001b[0m\u001b[1;33m\u001b[0m\u001b[0m\n\u001b[1;32m--> 549\u001b[1;33m         tld.op_callbacks, filename)\n\u001b[0m\u001b[0;32m    550\u001b[0m       \u001b[1;32mreturn\u001b[0m \u001b[0m_result\u001b[0m\u001b[1;33m\u001b[0m\u001b[1;33m\u001b[0m\u001b[0m\n",
      "\u001b[1;31m_FallbackException\u001b[0m: This function does not handle the case of the path where all inputs are not already EagerTensors.",
      "\nDuring handling of the above exception, another exception occurred:\n",
      "\u001b[1;31mUnicodeDecodeError\u001b[0m                        Traceback (most recent call last)",
      "\u001b[1;32m<ipython-input-6-d2807888d964>\u001b[0m in \u001b[0;36m<module>\u001b[1;34m\u001b[0m\n\u001b[0;32m      1\u001b[0m \u001b[1;31m# # 讀取路徑後，將讀取的圖片調整大小，test_data_x\u001b[0m\u001b[1;33m\u001b[0m\u001b[1;33m\u001b[0m\u001b[1;33m\u001b[0m\u001b[0m\n\u001b[0;32m      2\u001b[0m \u001b[1;32mfor\u001b[0m \u001b[0mi\u001b[0m\u001b[1;33m,\u001b[0m \u001b[0mrow\u001b[0m \u001b[1;32min\u001b[0m \u001b[0menumerate\u001b[0m\u001b[1;33m(\u001b[0m\u001b[0mtest_data\u001b[0m\u001b[1;33m.\u001b[0m\u001b[0mvalues\u001b[0m\u001b[1;33m)\u001b[0m\u001b[1;33m:\u001b[0m\u001b[1;33m\u001b[0m\u001b[1;33m\u001b[0m\u001b[0m\n\u001b[1;32m----> 3\u001b[1;33m     \u001b[0mimage\u001b[0m \u001b[1;33m=\u001b[0m \u001b[0m_parse_function\u001b[0m\u001b[1;33m(\u001b[0m\u001b[0mrow\u001b[0m\u001b[1;33m[\u001b[0m\u001b[1;36m0\u001b[0m\u001b[1;33m]\u001b[0m\u001b[1;33m)\u001b[0m\u001b[1;33m\u001b[0m\u001b[1;33m\u001b[0m\u001b[0m\n\u001b[0m\u001b[0;32m      4\u001b[0m     \u001b[0mtest_data_x\u001b[0m\u001b[1;33m[\u001b[0m\u001b[0mi\u001b[0m\u001b[1;33m]\u001b[0m \u001b[1;33m=\u001b[0m \u001b[0mimage\u001b[0m\u001b[1;33m\u001b[0m\u001b[1;33m\u001b[0m\u001b[0m\n\u001b[0;32m      5\u001b[0m     \u001b[1;32mif\u001b[0m \u001b[0mi\u001b[0m\u001b[1;33m%\u001b[0m\u001b[1;36m2000\u001b[0m \u001b[1;33m==\u001b[0m \u001b[1;36m0\u001b[0m\u001b[1;33m:\u001b[0m \u001b[0mprint\u001b[0m\u001b[1;33m(\u001b[0m\u001b[1;34m'Processed {} of {}'\u001b[0m\u001b[1;33m.\u001b[0m\u001b[0mformat\u001b[0m\u001b[1;33m(\u001b[0m\u001b[0mi\u001b[0m\u001b[1;33m,\u001b[0m \u001b[0mlen\u001b[0m\u001b[1;33m(\u001b[0m\u001b[0mtest_data\u001b[0m\u001b[1;33m)\u001b[0m\u001b[1;33m)\u001b[0m\u001b[1;33m)\u001b[0m\u001b[1;33m\u001b[0m\u001b[1;33m\u001b[0m\u001b[0m\n",
      "\u001b[1;32m<ipython-input-3-2de445b1f524>\u001b[0m in \u001b[0;36m_parse_function\u001b[1;34m(filename)\u001b[0m\n\u001b[0;32m      2\u001b[0m \u001b[1;31m# to a fixed shape.\u001b[0m\u001b[1;33m\u001b[0m\u001b[1;33m\u001b[0m\u001b[1;33m\u001b[0m\u001b[0m\n\u001b[0;32m      3\u001b[0m \u001b[1;32mdef\u001b[0m \u001b[0m_parse_function\u001b[0m\u001b[1;33m(\u001b[0m\u001b[0mfilename\u001b[0m\u001b[1;33m)\u001b[0m\u001b[1;33m:\u001b[0m\u001b[1;33m\u001b[0m\u001b[1;33m\u001b[0m\u001b[0m\n\u001b[1;32m----> 4\u001b[1;33m     \u001b[0mimage_string\u001b[0m \u001b[1;33m=\u001b[0m \u001b[0mtf\u001b[0m\u001b[1;33m.\u001b[0m\u001b[0mio\u001b[0m\u001b[1;33m.\u001b[0m\u001b[0mread_file\u001b[0m\u001b[1;33m(\u001b[0m\u001b[0mfilename\u001b[0m\u001b[1;33m)\u001b[0m\u001b[1;33m\u001b[0m\u001b[1;33m\u001b[0m\u001b[0m\n\u001b[0m\u001b[0;32m      5\u001b[0m     \u001b[0mimage_decoded\u001b[0m \u001b[1;33m=\u001b[0m \u001b[0mtf\u001b[0m\u001b[1;33m.\u001b[0m\u001b[0mimage\u001b[0m\u001b[1;33m.\u001b[0m\u001b[0mdecode_jpeg\u001b[0m\u001b[1;33m(\u001b[0m\u001b[0mimage_string\u001b[0m\u001b[1;33m,\u001b[0m \u001b[0mchannels\u001b[0m\u001b[1;33m=\u001b[0m\u001b[1;36m3\u001b[0m\u001b[1;33m)\u001b[0m \u001b[1;31m# Channels needed because some test images are b/w\u001b[0m\u001b[1;33m\u001b[0m\u001b[1;33m\u001b[0m\u001b[0m\n\u001b[0;32m      6\u001b[0m     \u001b[0mimage_resized\u001b[0m \u001b[1;33m=\u001b[0m \u001b[0mtf\u001b[0m\u001b[1;33m.\u001b[0m\u001b[0mimage\u001b[0m\u001b[1;33m.\u001b[0m\u001b[0mresize\u001b[0m\u001b[1;33m(\u001b[0m\u001b[0mimage_decoded\u001b[0m\u001b[1;33m,\u001b[0m \u001b[1;33m[\u001b[0m\u001b[1;36m40\u001b[0m\u001b[1;33m,\u001b[0m \u001b[1;36m40\u001b[0m\u001b[1;33m]\u001b[0m\u001b[1;33m)\u001b[0m\u001b[1;33m\u001b[0m\u001b[1;33m\u001b[0m\u001b[0m\n",
      "\u001b[1;32m~\\AppData\\Roaming\\Python\\Python37\\site-packages\\tensorflow_core\\python\\ops\\gen_io_ops.py\u001b[0m in \u001b[0;36mread_file\u001b[1;34m(filename, name)\u001b[0m\n\u001b[0;32m    552\u001b[0m       \u001b[1;32mtry\u001b[0m\u001b[1;33m:\u001b[0m\u001b[1;33m\u001b[0m\u001b[1;33m\u001b[0m\u001b[0m\n\u001b[0;32m    553\u001b[0m         return read_file_eager_fallback(\n\u001b[1;32m--> 554\u001b[1;33m             filename, name=name, ctx=_ctx)\n\u001b[0m\u001b[0;32m    555\u001b[0m       \u001b[1;32mexcept\u001b[0m \u001b[0m_core\u001b[0m\u001b[1;33m.\u001b[0m\u001b[0m_SymbolicException\u001b[0m\u001b[1;33m:\u001b[0m\u001b[1;33m\u001b[0m\u001b[1;33m\u001b[0m\u001b[0m\n\u001b[0;32m    556\u001b[0m         \u001b[1;32mpass\u001b[0m  \u001b[1;31m# Add nodes to the TensorFlow graph.\u001b[0m\u001b[1;33m\u001b[0m\u001b[1;33m\u001b[0m\u001b[0m\n",
      "\u001b[1;32m~\\AppData\\Roaming\\Python\\Python37\\site-packages\\tensorflow_core\\python\\ops\\gen_io_ops.py\u001b[0m in \u001b[0;36mread_file_eager_fallback\u001b[1;34m(filename, name, ctx)\u001b[0m\n\u001b[0;32m    590\u001b[0m   \u001b[0m_attrs\u001b[0m \u001b[1;33m=\u001b[0m \u001b[1;32mNone\u001b[0m\u001b[1;33m\u001b[0m\u001b[1;33m\u001b[0m\u001b[0m\n\u001b[0;32m    591\u001b[0m   _result = _execute.execute(b\"ReadFile\", 1, inputs=_inputs_flat,\n\u001b[1;32m--> 592\u001b[1;33m                              attrs=_attrs, ctx=ctx, name=name)\n\u001b[0m\u001b[0;32m    593\u001b[0m   \u001b[1;32mif\u001b[0m \u001b[0m_execute\u001b[0m\u001b[1;33m.\u001b[0m\u001b[0mmust_record_gradient\u001b[0m\u001b[1;33m(\u001b[0m\u001b[1;33m)\u001b[0m\u001b[1;33m:\u001b[0m\u001b[1;33m\u001b[0m\u001b[1;33m\u001b[0m\u001b[0m\n\u001b[0;32m    594\u001b[0m     _execute.record_gradient(\n",
      "\u001b[1;32m~\\AppData\\Roaming\\Python\\Python37\\site-packages\\tensorflow_core\\python\\eager\\execute.py\u001b[0m in \u001b[0;36mquick_execute\u001b[1;34m(op_name, num_outputs, inputs, attrs, ctx, name)\u001b[0m\n\u001b[0;32m     59\u001b[0m     tensors = pywrap_tensorflow.TFE_Py_Execute(ctx._handle, device_name,\n\u001b[0;32m     60\u001b[0m                                                \u001b[0mop_name\u001b[0m\u001b[1;33m,\u001b[0m \u001b[0minputs\u001b[0m\u001b[1;33m,\u001b[0m \u001b[0mattrs\u001b[0m\u001b[1;33m,\u001b[0m\u001b[1;33m\u001b[0m\u001b[1;33m\u001b[0m\u001b[0m\n\u001b[1;32m---> 61\u001b[1;33m                                                num_outputs)\n\u001b[0m\u001b[0;32m     62\u001b[0m   \u001b[1;32mexcept\u001b[0m \u001b[0mcore\u001b[0m\u001b[1;33m.\u001b[0m\u001b[0m_NotOkStatusException\u001b[0m \u001b[1;32mas\u001b[0m \u001b[0me\u001b[0m\u001b[1;33m:\u001b[0m\u001b[1;33m\u001b[0m\u001b[1;33m\u001b[0m\u001b[0m\n\u001b[0;32m     63\u001b[0m     \u001b[1;32mif\u001b[0m \u001b[0mname\u001b[0m \u001b[1;32mis\u001b[0m \u001b[1;32mnot\u001b[0m \u001b[1;32mNone\u001b[0m\u001b[1;33m:\u001b[0m\u001b[1;33m\u001b[0m\u001b[1;33m\u001b[0m\u001b[0m\n",
      "\u001b[1;31mUnicodeDecodeError\u001b[0m: 'utf-8' codec can't decode byte 0xa8 in position 70: invalid start byte"
     ]
    }
   ],
   "source": [
    "# # 讀取路徑後，將讀取的圖片調整大小，test_data_x\n",
    "for i, row in enumerate(test_data.values):\n",
    "    image = _parse_function(row[0])\n",
    "    test_data_x[i] = image\n",
    "    if i%2000 == 0: print('Processed {} of {}'.format(i, len(test_data)))"
   ]
  },
  {
   "cell_type": "code",
   "execution_count": 44,
   "metadata": {},
   "outputs": [
    {
     "ename": "UnicodeDecodeError",
     "evalue": "'utf-8' codec can't decode byte 0xa8 in position 77: invalid start byte",
     "output_type": "error",
     "traceback": [
      "\u001b[1;31m---------------------------------------------------------------------------\u001b[0m",
      "\u001b[1;31m_FallbackException\u001b[0m                        Traceback (most recent call last)",
      "\u001b[1;32m~\\AppData\\Roaming\\Python\\Python37\\site-packages\\tensorflow_core\\python\\ops\\gen_io_ops.py\u001b[0m in \u001b[0;36mread_file\u001b[1;34m(filename, name)\u001b[0m\n\u001b[0;32m    548\u001b[0m         \u001b[0m_ctx\u001b[0m\u001b[1;33m.\u001b[0m\u001b[0m_context_handle\u001b[0m\u001b[1;33m,\u001b[0m \u001b[0mtld\u001b[0m\u001b[1;33m.\u001b[0m\u001b[0mdevice_name\u001b[0m\u001b[1;33m,\u001b[0m \u001b[1;34m\"ReadFile\"\u001b[0m\u001b[1;33m,\u001b[0m \u001b[0mname\u001b[0m\u001b[1;33m,\u001b[0m\u001b[1;33m\u001b[0m\u001b[1;33m\u001b[0m\u001b[0m\n\u001b[1;32m--> 549\u001b[1;33m         tld.op_callbacks, filename)\n\u001b[0m\u001b[0;32m    550\u001b[0m       \u001b[1;32mreturn\u001b[0m \u001b[0m_result\u001b[0m\u001b[1;33m\u001b[0m\u001b[1;33m\u001b[0m\u001b[0m\n",
      "\u001b[1;31m_FallbackException\u001b[0m: This function does not handle the case of the path where all inputs are not already EagerTensors.",
      "\nDuring handling of the above exception, another exception occurred:\n",
      "\u001b[1;31mUnicodeDecodeError\u001b[0m                        Traceback (most recent call last)",
      "\u001b[1;32m<ipython-input-44-37357cbe89f3>\u001b[0m in \u001b[0;36m<module>\u001b[1;34m\u001b[0m\n\u001b[0;32m      1\u001b[0m \u001b[1;31m# 讀取路徑後，將讀取的圖片調整大小，並存入train_data_x, train_data_y\u001b[0m\u001b[1;33m\u001b[0m\u001b[1;33m\u001b[0m\u001b[1;33m\u001b[0m\u001b[0m\n\u001b[0;32m      2\u001b[0m \u001b[1;32mfor\u001b[0m \u001b[0mi\u001b[0m\u001b[1;33m,\u001b[0m \u001b[0mrow\u001b[0m \u001b[1;32min\u001b[0m \u001b[0menumerate\u001b[0m\u001b[1;33m(\u001b[0m\u001b[0mtrain_data\u001b[0m\u001b[1;33m.\u001b[0m\u001b[0mvalues\u001b[0m\u001b[1;33m)\u001b[0m\u001b[1;33m:\u001b[0m\u001b[1;33m\u001b[0m\u001b[1;33m\u001b[0m\u001b[0m\n\u001b[1;32m----> 3\u001b[1;33m     \u001b[0mimage\u001b[0m \u001b[1;33m=\u001b[0m \u001b[0m_parse_function\u001b[0m\u001b[1;33m(\u001b[0m\u001b[0mrow\u001b[0m\u001b[1;33m[\u001b[0m\u001b[1;36m14\u001b[0m\u001b[1;33m]\u001b[0m\u001b[1;33m)\u001b[0m\u001b[1;33m\u001b[0m\u001b[1;33m\u001b[0m\u001b[0m\n\u001b[0m\u001b[0;32m      4\u001b[0m \u001b[1;33m\u001b[0m\u001b[0m\n\u001b[0;32m      5\u001b[0m     \u001b[0mtrain_data_x\u001b[0m\u001b[1;33m[\u001b[0m\u001b[0mi\u001b[0m\u001b[1;33m]\u001b[0m \u001b[1;33m=\u001b[0m \u001b[0mimage\u001b[0m\u001b[1;33m\u001b[0m\u001b[1;33m\u001b[0m\u001b[0m\n",
      "\u001b[1;32m<ipython-input-40-2de445b1f524>\u001b[0m in \u001b[0;36m_parse_function\u001b[1;34m(filename)\u001b[0m\n\u001b[0;32m      2\u001b[0m \u001b[1;31m# to a fixed shape.\u001b[0m\u001b[1;33m\u001b[0m\u001b[1;33m\u001b[0m\u001b[1;33m\u001b[0m\u001b[0m\n\u001b[0;32m      3\u001b[0m \u001b[1;32mdef\u001b[0m \u001b[0m_parse_function\u001b[0m\u001b[1;33m(\u001b[0m\u001b[0mfilename\u001b[0m\u001b[1;33m)\u001b[0m\u001b[1;33m:\u001b[0m\u001b[1;33m\u001b[0m\u001b[1;33m\u001b[0m\u001b[0m\n\u001b[1;32m----> 4\u001b[1;33m     \u001b[0mimage_string\u001b[0m \u001b[1;33m=\u001b[0m \u001b[0mtf\u001b[0m\u001b[1;33m.\u001b[0m\u001b[0mio\u001b[0m\u001b[1;33m.\u001b[0m\u001b[0mread_file\u001b[0m\u001b[1;33m(\u001b[0m\u001b[0mfilename\u001b[0m\u001b[1;33m)\u001b[0m\u001b[1;33m\u001b[0m\u001b[1;33m\u001b[0m\u001b[0m\n\u001b[0m\u001b[0;32m      5\u001b[0m     \u001b[0mimage_decoded\u001b[0m \u001b[1;33m=\u001b[0m \u001b[0mtf\u001b[0m\u001b[1;33m.\u001b[0m\u001b[0mimage\u001b[0m\u001b[1;33m.\u001b[0m\u001b[0mdecode_jpeg\u001b[0m\u001b[1;33m(\u001b[0m\u001b[0mimage_string\u001b[0m\u001b[1;33m,\u001b[0m \u001b[0mchannels\u001b[0m\u001b[1;33m=\u001b[0m\u001b[1;36m3\u001b[0m\u001b[1;33m)\u001b[0m \u001b[1;31m# Channels needed because some test images are b/w\u001b[0m\u001b[1;33m\u001b[0m\u001b[1;33m\u001b[0m\u001b[0m\n\u001b[0;32m      6\u001b[0m     \u001b[0mimage_resized\u001b[0m \u001b[1;33m=\u001b[0m \u001b[0mtf\u001b[0m\u001b[1;33m.\u001b[0m\u001b[0mimage\u001b[0m\u001b[1;33m.\u001b[0m\u001b[0mresize\u001b[0m\u001b[1;33m(\u001b[0m\u001b[0mimage_decoded\u001b[0m\u001b[1;33m,\u001b[0m \u001b[1;33m[\u001b[0m\u001b[1;36m40\u001b[0m\u001b[1;33m,\u001b[0m \u001b[1;36m40\u001b[0m\u001b[1;33m]\u001b[0m\u001b[1;33m)\u001b[0m\u001b[1;33m\u001b[0m\u001b[1;33m\u001b[0m\u001b[0m\n",
      "\u001b[1;32m~\\AppData\\Roaming\\Python\\Python37\\site-packages\\tensorflow_core\\python\\ops\\gen_io_ops.py\u001b[0m in \u001b[0;36mread_file\u001b[1;34m(filename, name)\u001b[0m\n\u001b[0;32m    552\u001b[0m       \u001b[1;32mtry\u001b[0m\u001b[1;33m:\u001b[0m\u001b[1;33m\u001b[0m\u001b[1;33m\u001b[0m\u001b[0m\n\u001b[0;32m    553\u001b[0m         return read_file_eager_fallback(\n\u001b[1;32m--> 554\u001b[1;33m             filename, name=name, ctx=_ctx)\n\u001b[0m\u001b[0;32m    555\u001b[0m       \u001b[1;32mexcept\u001b[0m \u001b[0m_core\u001b[0m\u001b[1;33m.\u001b[0m\u001b[0m_SymbolicException\u001b[0m\u001b[1;33m:\u001b[0m\u001b[1;33m\u001b[0m\u001b[1;33m\u001b[0m\u001b[0m\n\u001b[0;32m    556\u001b[0m         \u001b[1;32mpass\u001b[0m  \u001b[1;31m# Add nodes to the TensorFlow graph.\u001b[0m\u001b[1;33m\u001b[0m\u001b[1;33m\u001b[0m\u001b[0m\n",
      "\u001b[1;32m~\\AppData\\Roaming\\Python\\Python37\\site-packages\\tensorflow_core\\python\\ops\\gen_io_ops.py\u001b[0m in \u001b[0;36mread_file_eager_fallback\u001b[1;34m(filename, name, ctx)\u001b[0m\n\u001b[0;32m    590\u001b[0m   \u001b[0m_attrs\u001b[0m \u001b[1;33m=\u001b[0m \u001b[1;32mNone\u001b[0m\u001b[1;33m\u001b[0m\u001b[1;33m\u001b[0m\u001b[0m\n\u001b[0;32m    591\u001b[0m   _result = _execute.execute(b\"ReadFile\", 1, inputs=_inputs_flat,\n\u001b[1;32m--> 592\u001b[1;33m                              attrs=_attrs, ctx=ctx, name=name)\n\u001b[0m\u001b[0;32m    593\u001b[0m   \u001b[1;32mif\u001b[0m \u001b[0m_execute\u001b[0m\u001b[1;33m.\u001b[0m\u001b[0mmust_record_gradient\u001b[0m\u001b[1;33m(\u001b[0m\u001b[1;33m)\u001b[0m\u001b[1;33m:\u001b[0m\u001b[1;33m\u001b[0m\u001b[1;33m\u001b[0m\u001b[0m\n\u001b[0;32m    594\u001b[0m     _execute.record_gradient(\n",
      "\u001b[1;32m~\\AppData\\Roaming\\Python\\Python37\\site-packages\\tensorflow_core\\python\\eager\\execute.py\u001b[0m in \u001b[0;36mquick_execute\u001b[1;34m(op_name, num_outputs, inputs, attrs, ctx, name)\u001b[0m\n\u001b[0;32m     59\u001b[0m     tensors = pywrap_tensorflow.TFE_Py_Execute(ctx._handle, device_name,\n\u001b[0;32m     60\u001b[0m                                                \u001b[0mop_name\u001b[0m\u001b[1;33m,\u001b[0m \u001b[0minputs\u001b[0m\u001b[1;33m,\u001b[0m \u001b[0mattrs\u001b[0m\u001b[1;33m,\u001b[0m\u001b[1;33m\u001b[0m\u001b[1;33m\u001b[0m\u001b[0m\n\u001b[1;32m---> 61\u001b[1;33m                                                num_outputs)\n\u001b[0m\u001b[0;32m     62\u001b[0m   \u001b[1;32mexcept\u001b[0m \u001b[0mcore\u001b[0m\u001b[1;33m.\u001b[0m\u001b[0m_NotOkStatusException\u001b[0m \u001b[1;32mas\u001b[0m \u001b[0me\u001b[0m\u001b[1;33m:\u001b[0m\u001b[1;33m\u001b[0m\u001b[1;33m\u001b[0m\u001b[0m\n\u001b[0;32m     63\u001b[0m     \u001b[1;32mif\u001b[0m \u001b[0mname\u001b[0m \u001b[1;32mis\u001b[0m \u001b[1;32mnot\u001b[0m \u001b[1;32mNone\u001b[0m\u001b[1;33m:\u001b[0m\u001b[1;33m\u001b[0m\u001b[1;33m\u001b[0m\u001b[0m\n",
      "\u001b[1;31mUnicodeDecodeError\u001b[0m: 'utf-8' codec can't decode byte 0xa8 in position 77: invalid start byte"
     ]
    }
   ],
   "source": [
    "# 讀取路徑後，將讀取的圖片調整大小，並存入train_data_x, train_data_y\n",
    "for i, row in enumerate(train_data.values):\n",
    "    image = _parse_function(row[14])\n",
    "\n",
    "    train_data_x[i] = image\n",
    "    train_data_y[i] = row[:14]\n",
    "    if i%2000 == 0: print('Processed {} of {}'.format(i, len(train_data)))"
   ]
  },
  {
   "cell_type": "code",
   "execution_count": 35,
   "metadata": {},
   "outputs": [
    {
     "ename": "IndexError",
     "evalue": "index 14 is out of bounds for axis 0 with size 1",
     "output_type": "error",
     "traceback": [
      "\u001b[1;31m---------------------------------------------------------------------------\u001b[0m",
      "\u001b[1;31mIndexError\u001b[0m                                Traceback (most recent call last)",
      "\u001b[1;32m<ipython-input-35-72705ee97638>\u001b[0m in \u001b[0;36m<module>\u001b[1;34m\u001b[0m\n\u001b[0;32m      1\u001b[0m \u001b[1;32mfor\u001b[0m \u001b[0mi\u001b[0m\u001b[1;33m,\u001b[0m \u001b[0mrow\u001b[0m \u001b[1;32min\u001b[0m \u001b[0menumerate\u001b[0m\u001b[1;33m(\u001b[0m\u001b[0mtest_data\u001b[0m\u001b[1;33m.\u001b[0m\u001b[0mvalues\u001b[0m\u001b[1;33m)\u001b[0m\u001b[1;33m:\u001b[0m\u001b[1;33m\u001b[0m\u001b[1;33m\u001b[0m\u001b[0m\n\u001b[1;32m----> 2\u001b[1;33m     \u001b[0mimage\u001b[0m \u001b[1;33m=\u001b[0m \u001b[0m_parse_function\u001b[0m\u001b[1;33m(\u001b[0m\u001b[0mrow\u001b[0m\u001b[1;33m[\u001b[0m\u001b[1;36m14\u001b[0m\u001b[1;33m]\u001b[0m\u001b[1;33m)\u001b[0m\u001b[1;33m\u001b[0m\u001b[1;33m\u001b[0m\u001b[0m\n\u001b[0m\u001b[0;32m      3\u001b[0m     \u001b[0mtest_data_x\u001b[0m\u001b[1;33m[\u001b[0m\u001b[0mi\u001b[0m\u001b[1;33m]\u001b[0m \u001b[1;33m=\u001b[0m \u001b[0mimage\u001b[0m\u001b[1;33m\u001b[0m\u001b[1;33m\u001b[0m\u001b[0m\n\u001b[0;32m      4\u001b[0m     \u001b[0mtest_data_y\u001b[0m\u001b[1;33m[\u001b[0m\u001b[0mi\u001b[0m\u001b[1;33m]\u001b[0m \u001b[1;33m=\u001b[0m \u001b[0mrow\u001b[0m\u001b[1;33m[\u001b[0m\u001b[1;33m:\u001b[0m\u001b[1;36m14\u001b[0m\u001b[1;33m]\u001b[0m\u001b[1;33m\u001b[0m\u001b[1;33m\u001b[0m\u001b[0m\n\u001b[0;32m      5\u001b[0m     \u001b[1;32mif\u001b[0m \u001b[0mi\u001b[0m\u001b[1;33m%\u001b[0m\u001b[1;36m2000\u001b[0m \u001b[1;33m==\u001b[0m \u001b[1;36m0\u001b[0m\u001b[1;33m:\u001b[0m \u001b[0mprint\u001b[0m\u001b[1;33m(\u001b[0m\u001b[1;34m'Processed {} of {}'\u001b[0m\u001b[1;33m.\u001b[0m\u001b[0mformat\u001b[0m\u001b[1;33m(\u001b[0m\u001b[0mi\u001b[0m\u001b[1;33m,\u001b[0m \u001b[0mlen\u001b[0m\u001b[1;33m(\u001b[0m\u001b[0mtest_data\u001b[0m\u001b[1;33m)\u001b[0m\u001b[1;33m)\u001b[0m\u001b[1;33m)\u001b[0m\u001b[1;33m\u001b[0m\u001b[1;33m\u001b[0m\u001b[0m\n",
      "\u001b[1;31mIndexError\u001b[0m: index 14 is out of bounds for axis 0 with size 1"
     ]
    }
   ],
   "source": [
    "for i, row in enumerate(test_data.values):\n",
    "    image = _parse_function(row[14])\n",
    "    test_data_x[i] = image\n",
    "    test_data_y[i] = row[:14]\n",
    "    if i%2000 == 0: print('Processed {} of {}'.format(i, len(test_data)))"
   ]
  },
  {
   "cell_type": "markdown",
   "metadata": {},
   "source": [
    "# ONLY Dense"
   ]
  },
  {
   "cell_type": "code",
   "execution_count": 20,
   "metadata": {},
   "outputs": [
    {
     "name": "stdout",
     "output_type": "stream",
     "text": [
      "WARNING:tensorflow:From C:\\Users\\maxlin\\Anaconda3\\lib\\site-packages\\tensorflow\\python\\ops\\resource_variable_ops.py:435: colocate_with (from tensorflow.python.framework.ops) is deprecated and will be removed in a future version.\n",
      "Instructions for updating:\n",
      "Colocations handled automatically by placer.\n",
      "WARNING:tensorflow:From C:\\Users\\maxlin\\Anaconda3\\lib\\site-packages\\tensorflow\\python\\keras\\layers\\core.py:143: calling dropout (from tensorflow.python.ops.nn_ops) with keep_prob is deprecated and will be removed in a future version.\n",
      "Instructions for updating:\n",
      "Please use `rate` instead of `keep_prob`. Rate should be set to `rate = 1 - keep_prob`.\n"
     ]
    },
    {
     "ename": "AttributeError",
     "evalue": "module 'tensorflow' has no attribute 'optimizers'",
     "output_type": "error",
     "traceback": [
      "\u001b[1;31m---------------------------------------------------------------------------\u001b[0m",
      "\u001b[1;31mAttributeError\u001b[0m                            Traceback (most recent call last)",
      "\u001b[1;32m<ipython-input-20-4a7eab99e929>\u001b[0m in \u001b[0;36m<module>\u001b[1;34m\u001b[0m\n\u001b[0;32m     20\u001b[0m \u001b[1;33m\u001b[0m\u001b[0m\n\u001b[0;32m     21\u001b[0m \u001b[0mmodel\u001b[0m \u001b[1;33m=\u001b[0m \u001b[0mtf\u001b[0m\u001b[1;33m.\u001b[0m\u001b[0mkeras\u001b[0m\u001b[1;33m.\u001b[0m\u001b[0mModel\u001b[0m\u001b[1;33m(\u001b[0m\u001b[0minputs\u001b[0m\u001b[1;33m=\u001b[0m\u001b[0minputs\u001b[0m\u001b[1;33m,\u001b[0m \u001b[0moutputs\u001b[0m\u001b[1;33m=\u001b[0m\u001b[1;33m[\u001b[0m\u001b[0mpredictions_smile\u001b[0m\u001b[1;33m,\u001b[0m\u001b[0mpredictions_left_mouth\u001b[0m\u001b[1;33m,\u001b[0m \u001b[0mpredictions_right_mouth\u001b[0m\u001b[1;33m]\u001b[0m\u001b[1;33m)\u001b[0m\u001b[1;33m\u001b[0m\u001b[1;33m\u001b[0m\u001b[0m\n\u001b[1;32m---> 22\u001b[1;33m model.compile(optimizer=tf.optimizers.Adam(lr = 0.0001),\n\u001b[0m\u001b[0;32m     23\u001b[0m               loss=[tf.keras.losses.BinaryCrossentropy(),tf.keras.losses.MeanSquaredError(),tf.keras.losses.MeanSquaredError()], metrics = ['mse', 'accuracy'])\n",
      "\u001b[1;31mAttributeError\u001b[0m: module 'tensorflow' has no attribute 'optimizers'"
     ]
    }
   ],
   "source": [
    "inputs = tf.keras.Input(shape=(40,40,3))\n",
    "flat = tf.keras.layers.Flatten()(inputs)\n",
    "dense1 = tf.keras.layers.Dense(units=1024, activation=\"relu\")(flat)\n",
    "dense1 = tf.keras.layers.Dropout(0.5)(dense1)\n",
    "dense2 = tf.keras.layers.Dense(units=1024, activation=\"relu\")(dense1)\n",
    "dense2 = tf.keras.layers.Dropout(0.5)(dense2)\n",
    "dense3 = tf.keras.layers.Dense(units=256, activation=\"relu\")(dense2)\n",
    "dense3 = tf.keras.layers.Dropout(0.5)(dense3)\n",
    "dense4 = tf.keras.layers.Dense(units=128, activation=\"relu\")(dense3)\n",
    "dense4 = tf.keras.layers.Dense(units=64, activation=\"relu\")(dense4)\n",
    "\n",
    "# predictions_gender = tf.keras.layers.Dense(units=1, activation='sigmoid')(dense4)\n",
    "predictions_smile = tf.keras.layers.Dense(units=1, activation='sigmoid')(dense4)\n",
    "\n",
    "dense_left = tf.keras.layers.Dense(units=64, activation=\"relu\")(dense4)\n",
    "predictions_right_mouth = tf.keras.layers.Dense(units=2)(dense_left)\n",
    "\n",
    "dense_right = tf.keras.layers.Dense(units=64, activation=\"relu\")(dense4)\n",
    "predictions_left_mouth = tf.keras.layers.Dense(units=2)(dense_right)\n",
    "\n",
    "model = tf.keras.Model(inputs=inputs, outputs=[predictions_smile,predictions_left_mouth, predictions_right_mouth])\n",
    "model.compile(optimizer=tf.optimizers.Adam(lr = 0.0001),\n",
    "              loss=[tf.keras.losses.BinaryCrossentropy(),tf.keras.losses.MeanSquaredError(),tf.keras.losses.MeanSquaredError()], metrics = ['mse', 'accuracy'])"
   ]
  },
  {
   "cell_type": "code",
   "execution_count": null,
   "metadata": {},
   "outputs": [],
   "source": [
    "\n",
    "inputs = tf.keras.Input(shape=(40,40,3))\n",
    "\n",
    "# First convolutive layer\n",
    "conv1 = tf.keras.layers.Conv2D(filters=16, kernel_size=[5, 5], padding=\"same\", activation=tf.nn.relu)(inputs)\n",
    "pool1 = tf.keras.layers.MaxPool2D(pool_size=[2, 2], strides=2)(conv1)\n",
    "\n",
    "# Second convolutive layer\n",
    "conv2 = tf.keras.layers.Conv2D(filters=48, kernel_size=[3, 3], padding=\"same\", activation=tf.nn.relu)(pool1)\n",
    "pool2 = tf.keras.layers.MaxPool2D(pool_size=[2, 2], strides=2)(conv2)\n",
    "\n",
    "# Third convolutive layer\n",
    "conv3 = tf.keras.layers.Conv2D(filters=64, kernel_size=[3, 3], padding=\"same\", activation=tf.nn.relu)(pool2)\n",
    "pool3 = tf.keras.layers.MaxPool2D(pool_size=[2, 2], strides=2)(conv3)\n",
    "\n",
    "# Fourth convolutive layer\n",
    "conv4 = tf.keras.layers.Conv2D(filters=64, kernel_size=[2, 2], padding=\"same\", activation=tf.nn.relu)(pool3)\n",
    "\n",
    "# Dense Layer\n",
    "flat = tf.reshape(conv4, [-1, 5 * 5 * 64])\n",
    "predictions_nose = tf.keras.layers.Dense(units=2)(flat)\n",
    "predictions_pose = tf.keras.layers.Dense(units=5,activation=tf.nn.softmax)(flat)\n",
    "\n",
    "\n",
    "model = tf.keras.Model(inputs=inputs, outputs=[predictions_nose, predictions_pose])\n",
    "model.compile(optimizer=tf.optimizers.Adam(),\n",
    "              loss=[tf.keras.losses.MeanSquaredError(), tf.keras.losses.categorical_crossentropy], metrics = ['mse', 'accuracy'])"
   ]
  },
  {
   "cell_type": "code",
   "execution_count": 38,
   "metadata": {},
   "outputs": [
    {
     "name": "stdout",
     "output_type": "stream",
     "text": [
      "Model: \"model_1\"\n",
      "__________________________________________________________________________________________________\n",
      "Layer (type)                    Output Shape         Param #     Connected to                     \n",
      "==================================================================================================\n",
      "input_2 (InputLayer)            [(None, 40, 40, 3)]  0                                            \n",
      "__________________________________________________________________________________________________\n",
      "flatten_1 (Flatten)             (None, 4800)         0           input_2[0][0]                    \n",
      "__________________________________________________________________________________________________\n",
      "dense_8 (Dense)                 (None, 1024)         4916224     flatten_1[0][0]                  \n",
      "__________________________________________________________________________________________________\n",
      "dropout_3 (Dropout)             (None, 1024)         0           dense_8[0][0]                    \n",
      "__________________________________________________________________________________________________\n",
      "dense_9 (Dense)                 (None, 1024)         1049600     dropout_3[0][0]                  \n",
      "__________________________________________________________________________________________________\n",
      "dropout_4 (Dropout)             (None, 1024)         0           dense_9[0][0]                    \n",
      "__________________________________________________________________________________________________\n",
      "dense_10 (Dense)                (None, 256)          262400      dropout_4[0][0]                  \n",
      "__________________________________________________________________________________________________\n",
      "dropout_5 (Dropout)             (None, 256)          0           dense_10[0][0]                   \n",
      "__________________________________________________________________________________________________\n",
      "dense_11 (Dense)                (None, 128)          32896       dropout_5[0][0]                  \n",
      "__________________________________________________________________________________________________\n",
      "dense_12 (Dense)                (None, 64)           8256        dense_11[0][0]                   \n",
      "__________________________________________________________________________________________________\n",
      "dense_16 (Dense)                (None, 64)           4160        dense_12[0][0]                   \n",
      "__________________________________________________________________________________________________\n",
      "dense_14 (Dense)                (None, 64)           4160        dense_12[0][0]                   \n",
      "__________________________________________________________________________________________________\n",
      "dense_13 (Dense)                (None, 1)            65          dense_12[0][0]                   \n",
      "__________________________________________________________________________________________________\n",
      "dense_17 (Dense)                (None, 2)            130         dense_16[0][0]                   \n",
      "__________________________________________________________________________________________________\n",
      "dense_15 (Dense)                (None, 2)            130         dense_14[0][0]                   \n",
      "==================================================================================================\n",
      "Total params: 6,278,021\n",
      "Trainable params: 6,278,021\n",
      "Non-trainable params: 0\n",
      "__________________________________________________________________________________________________\n"
     ]
    }
   ],
   "source": [
    "model.summary()"
   ]
  },
  {
   "cell_type": "code",
   "execution_count": 11,
   "metadata": {},
   "outputs": [],
   "source": [
    "from tensorflow.keras import utils"
   ]
  },
  {
   "cell_type": "code",
   "execution_count": 12,
   "metadata": {},
   "outputs": [],
   "source": [
    "nose_pos = utils.to_categorical(train_data_y[:,-1]-1)"
   ]
  },
  {
   "cell_type": "code",
   "execution_count": 13,
   "metadata": {},
   "outputs": [
    {
     "data": {
      "text/plain": [
       "array([[0., 0., 1., 0., 0.],\n",
       "       [0., 0., 1., 0., 0.],\n",
       "       [0., 0., 1., 0., 0.],\n",
       "       ...,\n",
       "       [0., 0., 0., 0., 1.],\n",
       "       [0., 0., 0., 1., 0.],\n",
       "       [0., 0., 0., 1., 0.]], dtype=float32)"
      ]
     },
     "execution_count": 13,
     "metadata": {},
     "output_type": "execute_result"
    }
   ],
   "source": [
    "nose_pos"
   ]
  },
  {
   "cell_type": "markdown",
   "metadata": {},
   "source": [
    "# 前處理資料"
   ]
  },
  {
   "cell_type": "code",
   "execution_count": 16,
   "metadata": {},
   "outputs": [],
   "source": [
    "gender = train_data_y[:,11] -1\n",
    "smile = train_data_y[:,12] -1\n",
    "left_mouth = train_data_y[3:9:5]\n",
    "right_mouth = train_data_y[4:10:5]"
   ]
  },
  {
   "cell_type": "code",
   "execution_count": null,
   "metadata": {},
   "outputs": [],
   "source": [
    "gender.shape"
   ]
  },
  {
   "cell_type": "code",
   "execution_count": null,
   "metadata": {},
   "outputs": [],
   "source": [
    "smile.shape"
   ]
  },
  {
   "cell_type": "code",
   "execution_count": null,
   "metadata": {},
   "outputs": [],
   "source": [
    "nose_pos.shape"
   ]
  },
  {
   "cell_type": "code",
   "execution_count": 47,
   "metadata": {},
   "outputs": [],
   "source": [
    "EPOCHS = 50"
   ]
  },
  {
   "cell_type": "code",
   "execution_count": 48,
   "metadata": {},
   "outputs": [
    {
     "name": "stdout",
     "output_type": "stream",
     "text": [
      "Train on 10000 samples\n",
      "Epoch 1/10\n",
      "10000/10000 [==============================] - 3s 273us/sample - loss: 0.6237 - dense_13_loss: 0.4984 - dense_17_loss: 0.0548 - dense_15_loss: 0.0718 - dense_13_mse: 0.1553 - dense_13_accuracy: 0.8551 - dense_17_mse: 0.0541 - dense_17_accuracy: 0.9770 - dense_15_mse: 0.0712 - dense_15_accuracy: 0.8017\n",
      "Epoch 2/10\n",
      "10000/10000 [==============================] - 3s 269us/sample - loss: 0.6051 - dense_13_loss: 0.4929 - dense_17_loss: 0.0526 - dense_15_loss: 0.0621 - dense_13_mse: 0.1524 - dense_13_accuracy: 0.8554 - dense_17_mse: 0.0522 - dense_17_accuracy: 0.9757 - dense_15_mse: 0.0617 - dense_15_accuracy: 0.8003\n",
      "Epoch 3/10\n",
      "10000/10000 [==============================] - 3s 271us/sample - loss: 0.5863 - dense_13_loss: 0.4862 - dense_17_loss: 0.0505 - dense_15_loss: 0.0515 - dense_13_mse: 0.1495 - dense_13_accuracy: 0.8567 - dense_17_mse: 0.0494 - dense_17_accuracy: 0.9778 - dense_15_mse: 0.0515 - dense_15_accuracy: 0.8045\n",
      "Epoch 4/10\n",
      "10000/10000 [==============================] - 3s 272us/sample - loss: 0.5961 - dense_13_loss: 0.4794 - dense_17_loss: 0.0504 - dense_15_loss: 0.0680 - dense_13_mse: 0.1473 - dense_13_accuracy: 0.8563 - dense_17_mse: 0.0497 - dense_17_accuracy: 0.9781 - dense_15_mse: 0.0676 - dense_15_accuracy: 0.8006\n",
      "Epoch 5/10\n",
      "10000/10000 [==============================] - 3s 276us/sample - loss: 0.5684 - dense_13_loss: 0.4697 - dense_17_loss: 0.0445 - dense_15_loss: 0.0531 - dense_13_mse: 0.1445 - dense_13_accuracy: 0.8570 - dense_17_mse: 0.0446 - dense_17_accuracy: 0.9801 - dense_15_mse: 0.0524 - dense_15_accuracy: 0.7986\n",
      "Epoch 6/10\n",
      "10000/10000 [==============================] - 3s 280us/sample - loss: 0.5552 - dense_13_loss: 0.4706 - dense_17_loss: 0.0411 - dense_15_loss: 0.0441 - dense_13_mse: 0.1429 - dense_13_accuracy: 0.8571 - dense_17_mse: 0.0415 - dense_17_accuracy: 0.9809 - dense_15_mse: 0.0444 - dense_15_accuracy: 0.7955\n",
      "Epoch 7/10\n",
      "10000/10000 [==============================] - 3s 273us/sample - loss: 0.5538 - dense_13_loss: 0.4653 - dense_17_loss: 0.0375 - dense_15_loss: 0.0517 - dense_13_mse: 0.1407 - dense_13_accuracy: 0.8566 - dense_17_mse: 0.0378 - dense_17_accuracy: 0.9819 - dense_15_mse: 0.0522 - dense_15_accuracy: 0.7942\n",
      "Epoch 8/10\n",
      "10000/10000 [==============================] - 3s 277us/sample - loss: 0.5349 - dense_13_loss: 0.4577 - dense_17_loss: 0.0328 - dense_15_loss: 0.0427 - dense_13_mse: 0.1388 - dense_13_accuracy: 0.8572 - dense_17_mse: 0.0331 - dense_17_accuracy: 0.9839 - dense_15_mse: 0.0431 - dense_15_accuracy: 0.7859\n",
      "Epoch 9/10\n",
      "10000/10000 [==============================] - 3s 275us/sample - loss: 0.5259 - dense_13_loss: 0.4513 - dense_17_loss: 0.0328 - dense_15_loss: 0.0393 - dense_13_mse: 0.1367 - dense_13_accuracy: 0.8579 - dense_17_mse: 0.0331 - dense_17_accuracy: 0.9841 - dense_15_mse: 0.0397 - dense_15_accuracy: 0.7826\n",
      "Epoch 10/10\n",
      "10000/10000 [==============================] - 3s 280us/sample - loss: 0.5173 - dense_13_loss: 0.4483 - dense_17_loss: 0.0328 - dense_15_loss: 0.0360 - dense_13_mse: 0.1351 - dense_13_accuracy: 0.8581 - dense_17_mse: 0.0330 - dense_17_accuracy: 0.9831 - dense_15_mse: 0.0360 - dense_15_accuracy: 0.7803\n"
     ]
    },
    {
     "data": {
      "text/plain": [
       "<tensorflow.python.keras.callbacks.History at 0x165b54d68>"
      ]
     },
     "execution_count": 48,
     "metadata": {},
     "output_type": "execute_result"
    }
   ],
   "source": [
    "model.fit(train_data_x,[smile, left_mouth,right_mouth],epochs=EPOCHS, batch_size=128)"
   ]
  },
  {
   "cell_type": "markdown",
   "metadata": {},
   "source": [
    "# 前處理測試資料"
   ]
  },
  {
   "cell_type": "code",
   "execution_count": 49,
   "metadata": {},
   "outputs": [],
   "source": [
    "# nose_pos_test = utils.to_categorical(test_data_y[:,-1]-1)\n",
    "# gender_test = test_data_y[:,11] -1\n",
    "\n",
    "smile_test = test_data_y[:,12] -1\n",
    "left_mouth_test = test_data_y[:,3:9:5]\n",
    "right_mouth_test = test_data_y[:,4:10:5]"
   ]
  },
  {
   "cell_type": "code",
   "execution_count": 50,
   "metadata": {},
   "outputs": [
    {
     "name": "stdout",
     "output_type": "stream",
     "text": [
      "2995/2995 [==============================] - 1s 181us/sample - loss: 0.4017 - dense_13_loss: 0.3815 - dense_17_loss: 0.0092 - dense_15_loss: 0.0109 - dense_13_mse: 0.1052 - dense_13_accuracy: 0.9182 - dense_17_mse: 0.0092 - dense_17_accuracy: 0.9930 - dense_15_mse: 0.0109 - dense_15_accuracy: 0.6134\n"
     ]
    }
   ],
   "source": [
    "loss = model.evaluate(x=test_data_x, y=[smile_test,left_mouth_test,right_mouth_test])"
   ]
  },
  {
   "cell_type": "code",
   "execution_count": 51,
   "metadata": {},
   "outputs": [],
   "source": [
    "result = model.predict(test_data_x)"
   ]
  },
  {
   "cell_type": "code",
   "execution_count": 22,
   "metadata": {},
   "outputs": [],
   "source": [
    "# Result 包含三個輸出， result[0] 是是否微笑，result[1] 是左嘴角XY座標，result[0] 是右嘴角XY座標"
   ]
  },
  {
   "cell_type": "code",
   "execution_count": 34,
   "metadata": {},
   "outputs": [
    {
     "data": {
      "text/plain": [
       "array([[0.07633331, 0.22507343],\n",
       "       [0.10844709, 0.22317137],\n",
       "       [0.10844709, 0.22317137],\n",
       "       ...,\n",
       "       [0.10844709, 0.22317137],\n",
       "       [0.10844709, 0.22317137],\n",
       "       [0.10844709, 0.22317137]], dtype=float32)"
      ]
     },
     "execution_count": 34,
     "metadata": {},
     "output_type": "execute_result"
    }
   ],
   "source": [
    "result[1]"
   ]
  },
  {
   "cell_type": "code",
   "execution_count": 35,
   "metadata": {},
   "outputs": [
    {
     "data": {
      "text/plain": [
       "array([[0.24499905, 0.18705314],\n",
       "       [0.29037225, 0.22945714],\n",
       "       [0.29037225, 0.22945714],\n",
       "       ...,\n",
       "       [0.29037225, 0.22945714],\n",
       "       [0.29037225, 0.22945714],\n",
       "       [0.29037228, 0.22945713]], dtype=float32)"
      ]
     },
     "execution_count": 35,
     "metadata": {},
     "output_type": "execute_result"
    }
   ],
   "source": [
    "result[2]"
   ]
  },
  {
   "cell_type": "code",
   "execution_count": 52,
   "metadata": {},
   "outputs": [
    {
     "data": {
      "image/png": "[encoded data removed]",
      "text/plain": [
       "<Figure size 432x288 with 1 Axes>"
      ]
     },
     "metadata": {
      "needs_background": "light"
     },
     "output_type": "display_data"
    }
   ],
   "source": [
    "# Evaluate a single prediction\n",
    "for label,row, predict_smile, predict_left_mouth, predict_right_mouth in zip(test_data_y[2:4,:],test_data_x[2:4,:], result[0][2:4,:], result[1][2:4,:], result[2][2:4,:]):\n",
    "#     gender = np.where(predict_gender>0.5, 1, 0)\n",
    "\n",
    "    _smile = np.where(predict_smile>0.5, 1, 0)\n",
    "    plt.imshow(row / 255)\n",
    "    plt.scatter(predict_left_mouth[0] * 40, predict_left_mouth[1] * 40, 500, marker='x', color='red', linewidth=5)\n",
    "    plt.scatter(predict_right_mouth[0] * 40, predict_right_mouth[1] * 40, 500, marker='x', color='red', linewidth=5)\n",
    "    plt.scatter(label[3] * 40, label[8] * 40, 500, marker='x', color='blue', linewidth=5)\n",
    "    plt.scatter(label[4] * 40, label[9] * 40, 500, marker='x', color='blue', linewidth=5)\n",
    "#     predictions = np.argmax(predict_pose)\n",
    "    font = {'family': 'serif',\n",
    "    'color':  'white',\n",
    "    'weight': 'bold',\n",
    "    'size': 16,\n",
    "    }\n",
    "#     plt.text(3, 3, 'Predicted pose: {}'.format(predictions),fontdict= font )\n",
    "    plt.text(3, 7, 'Predicted smile: {} '.format(_smile),fontdict= font )\n",
    "#     plt.text(3, 11, 'Predicted gender: {}'.format(gender),fontdict= font )\n",
    "    break"
   ]
  },
  {
   "cell_type": "code",
   "execution_count": 36,
   "metadata": {},
   "outputs": [
    {
     "data": {
      "image/png": "[encoded data removed]",
      "text/plain": [
       "<Figure size 432x288 with 1 Axes>"
      ]
     },
     "metadata": {
      "needs_background": "light"
     },
     "output_type": "display_data"
    }
   ],
   "source": [
    "# Evaluate a single prediction\n",
    "for label,row, predict_smile, predict_left_mouth, predict_right_mouth in zip(test_data_y[2:4,:],test_data_x[2:4,:], result[0][2:4,:], result[1][2:4,:], result[2][2:4,:]):\n",
    "#     gender = np.where(predict_gender>0.5, 1, 0)\n",
    "\n",
    "    _smile = np.where(predict_smile>0.5, 1, 0)\n",
    "    plt.imshow(row / 255)\n",
    "    plt.scatter(predict_left_mouth[0] * 40, predict_left_mouth[1] * 40, 500, marker='x', color='red', linewidth=5)\n",
    "    plt.scatter(predict_right_mouth[0] * 40, predict_right_mouth[1] * 40, 500, marker='x', color='red', linewidth=5)\n",
    "    plt.scatter(label[3] * 40, label[8] * 40, 500, marker='x', color='blue', linewidth=5)\n",
    "    plt.scatter(label[4] * 40, label[9] * 40, 500, marker='x', color='blue', linewidth=5)\n",
    "#     predictions = np.argmax(predict_pose)\n",
    "    font = {'family': 'serif',\n",
    "    'color':  'white',\n",
    "    'weight': 'bold',\n",
    "    'size': 16,\n",
    "    }\n",
    "#     plt.text(3, 3, 'Predicted pose: {}'.format(predictions),fontdict= font )\n",
    "    plt.text(3, 7, 'Predicted smile: {} '.format(_smile),fontdict= font )\n",
    "#     plt.text(3, 11, 'Predicted gender: {}'.format(gender),fontdict= font )\n",
    "    break"
   ]
  }
 ],
 "metadata": {
  "kernelspec": {
   "display_name": "Python 3.7.3 64-bit",
   "language": "python",
   "name": "python37364bit7b58821a064a4bc4bdd064f222b33e8c"
  },
  "language_info": {
   "codemirror_mode": {
    "name": "ipython",
    "version": 3
   },
   "file_extension": ".py",
   "mimetype": "text/x-python",
   "name": "python",
   "nbconvert_exporter": "python",
   "pygments_lexer": "ipython3",
   "version": "3.7.3"
  }
 },
 "nbformat": 4,
 "nbformat_minor": 4
}
