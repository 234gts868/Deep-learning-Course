{
 "cells": [
  {
   "cell_type": "code",
   "execution_count": null,
   "metadata": {},
   "outputs": [],
   "source": [
    "import pandas as pd\n",
    "import numpy as np\n",
    "import tensorflow as tf\n",
    "import matplotlib.pyplot as plt\n",
    "from tensorflow.keras import utils"
   ]
  },
  {
   "cell_type": "markdown",
   "metadata": {},
   "source": [
    "# 讀取訓練資料與測試資料"
   ]
  },
  {
   "cell_type": "code",
   "execution_count": null,
   "metadata": {},
   "outputs": [],
   "source": [
    "train_data = pd.read_csv('new_train.csv')\n",
    "test_data = pd.read_csv('test.csv')"
   ]
  },
  {
   "cell_type": "code",
   "execution_count": null,
   "metadata": {},
   "outputs": [],
   "source": [
    "train_data"
   ]
  },
  {
   "cell_type": "markdown",
   "metadata": {},
   "source": [
    "# 讀取訓練圖片與測試圖片"
   ]
  },
  {
   "cell_type": "code",
   "execution_count": null,
   "metadata": {},
   "outputs": [],
   "source": [
    "# 可以調整要壓縮的圖片像素\n",
    "RESIZE = 40"
   ]
  },
  {
   "cell_type": "code",
   "execution_count": null,
   "metadata": {},
   "outputs": [],
   "source": [
    "train_data_x = np.ndarray((len(train_data), RESIZE, RESIZE, 3))\n",
    "train_data_y = np.ndarray((len(train_data), 14))\n",
    "test_data_x = np.ndarray((len(test_data), RESIZE, RESIZE, 3))\n"
   ]
  },
  {
   "cell_type": "code",
   "execution_count": null,
   "metadata": {},
   "outputs": [],
   "source": [
    "# 讀取圖片的function\n",
    "# Reads an image from a file, decodes it into a dense tensor, and resizes it to a fixed shape.\n",
    "def _parse_function(filename):\n",
    "    image_string = tf.io.read_file(filename)\n",
    "    image_decoded = tf.image.decode_jpeg(image_string, channels=3) # Channels needed because some test images are b/w\n",
    "    image_resized = tf.image.resize(image_decoded, [RESIZE, RESIZE])\n",
    "    return image_resized"
   ]
  },
  {
   "cell_type": "code",
   "execution_count": null,
   "metadata": {},
   "outputs": [],
   "source": [
    "# 讀取路徑後，將讀取的圖片調整大小，並存入train_data_x, train_data_y\n",
    "for i, row in enumerate(train_data.values):\n",
    "    image = _parse_function(row[14])\n",
    "    train_data_x[i] = image\n",
    "    train_data_y[i] = row[:14]\n",
    "    if i%2000 == 0: print('Processed {} of {}'.format(i, len(train_data)))"
   ]
  },
  {
   "cell_type": "code",
   "execution_count": null,
   "metadata": {},
   "outputs": [],
   "source": [
    "# # 讀取路徑後，將讀取的圖片調整大小，test_data_x\n",
    "for i, row in enumerate(test_data.values):\n",
    "    image = _parse_function(row[0])\n",
    "    test_data_x[i] = image\n",
    "    if i%2000 == 0: print('Processed {} of {}'.format(i, len(test_data)))"
   ]
  },
  {
   "cell_type": "code",
   "execution_count": null,
   "metadata": {},
   "outputs": [],
   "source": [
    "# 畫出重新調整後的圖片\n",
    "font = {'family': 'serif', 'color':  'white', 'weight': 'bold', 'size': 16}\n",
    "plt.imshow(train_data_x[0]/255)\n",
    "plt.scatter(train_data_y[0,3] * RESIZE, train_data_y[0,8] * RESIZE, 500, marker='x', color='red', linewidth=3)\n",
    "plt.scatter(train_data_y[0,4] * RESIZE, train_data_y[0,9] * RESIZE, 500, marker='x', color='red', linewidth=3)\n",
    "plt.text(3, 3, 'Predicted smile: {} '.format(train_data_y[0,11]),fontdict=font)"
   ]
  },
  {
   "cell_type": "markdown",
   "metadata": {},
   "source": [
    "# 資料前處理\n",
    "- 資料並不是讀進來就可以立即使用，有些參數需要前處理\n",
    "- 例如，在本資料中`gender=1`為男性，`gender=2`為女性，如果要做binary classification需要轉換成`0`或`1`"
   ]
  },
  {
   "cell_type": "code",
   "execution_count": null,
   "metadata": {},
   "outputs": [],
   "source": []
  },
  {
   "cell_type": "markdown",
   "metadata": {},
   "source": [
    "# 建立模型\n",
    "- 自行建立模型，並且以mutlitask任務的架構"
   ]
  },
  {
   "cell_type": "code",
   "execution_count": null,
   "metadata": {},
   "outputs": [],
   "source": []
  },
  {
   "cell_type": "markdown",
   "metadata": {},
   "source": [
    "# 匯出預測結果\n",
    "- 利用pandas.Dataframe.to_csv()來匯出上傳到kaggle競賽\n",
    "- 對於**binary classification**問題，欄位必須要有`Id`與`Category`\n",
    "- 對於**regression**問題，欄位必須要有`Id`與`Expected`\n",
    "- `Id`欄位就是測試資料的圖片位置例如:`AFLW/0001-image20056.jpg`"
   ]
  },
  {
   "cell_type": "code",
   "execution_count": null,
   "metadata": {},
   "outputs": [],
   "source": [
    "# 將預測的結果放入，建立DataFrame物件，對於不同任務記得修改欄位名稱！！\n",
    "tmp = pd.DataFrame({'Id':test_data['path'],'Category': None})"
   ]
  },
  {
   "cell_type": "code",
   "execution_count": null,
   "metadata": {},
   "outputs": [],
   "source": [
    "tmp.to_csv(\"test_smile_result.csv\", index=False)"
   ]
  }
 ],
 "metadata": {
  "kernelspec": {
   "display_name": "Python 3",
   "language": "python",
   "name": "python3"
  },
  "language_info": {
   "codemirror_mode": {
    "name": "ipython",
    "version": 3
   },
   "file_extension": ".py",
   "mimetype": "text/x-python",
   "name": "python",
   "nbconvert_exporter": "python",
   "pygments_lexer": "ipython3",
   "version": "3.6.10"
  }
 },
 "nbformat": 4,
 "nbformat_minor": 4
}
