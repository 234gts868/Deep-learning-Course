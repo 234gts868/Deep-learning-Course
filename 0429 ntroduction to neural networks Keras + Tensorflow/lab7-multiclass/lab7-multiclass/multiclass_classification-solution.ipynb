{
 "cells": [
  {
   "cell_type": "markdown",
   "metadata": {},
   "source": [
    "# Lab: Mulitclass Classification\n",
    "\n",
    "-  <b> Multiclass classification</b> means a classification task with more than two classes; e.g., classify a set of images of fruits which may be oranges, apples, or pears. Multiclass classification makes the assumption that each sample is assigned to one and only one label: a fruit can be either an apple or a pear but not both at the same time. \n",
    "- In our case, We use [Cover type dataset]( https://archive.ics.uci.edu/ml/datasets/covertype) and  this dataset contains tree observations from four areas of the Roosevelt National Forest in Colorado. All observations are cartographic variables (no remote sensing) from 30 meter x 30 meter sections of forest. There are over half a million measurements total! This dataset includes information on tree type, shadow coverage, distance to nearby landmarks (roads etcetera), soil type, and local topography.\n",
    "- <b>Our purpose is to predict  forest cover type.</b>"
   ]
  },
  {
   "cell_type": "markdown",
   "metadata": {},
   "source": [
    "## Import required packages"
   ]
  },
  {
   "cell_type": "markdown",
   "metadata": {},
   "source": [
    "Import some libraries and examining the data."
   ]
  },
  {
   "cell_type": "code",
   "execution_count": 3,
   "metadata": {},
   "outputs": [
    {
     "name": "stdout",
     "output_type": "stream",
     "text": [
      "1.15.0\n"
     ]
    }
   ],
   "source": [
    "import pandas as pd\n",
    "import matplotlib.pyplot as plt\n",
    "import numpy as np\n",
    "import seaborn as sns\n",
    "import tensorflow as tf\n",
    "from tensorflow import keras\n",
    "from tensorflow.keras import layers\n",
    "print(tf.__version__)"
   ]
  },
  {
   "cell_type": "markdown",
   "metadata": {},
   "source": [
    "## Covertype Data Set\n",
    "The dataset is available from the [UCI Machine Learning Repository](https://archive.ics.uci.edu/ml/datasets/covertype)."
   ]
  },
  {
   "cell_type": "markdown",
   "metadata": {},
   "source": [
    "### Data information\n",
    "#### FEUATURES\n",
    "- Elevation = 海拔（以米為單位）\n",
    "- Aspect = 以方位角表示的縱橫比\n",
    "- Slope = 坡度\n",
    "- Horizontal_Distance_To_Hydrology = 到水的水平距離\n",
    "- Vertical_Distance_To_Hydrology = 到水的垂直距離\n",
    "- Horizontal_Distance_To_Roadways = 到最近道路的距離\n",
    "- Hillshade_9am = 山丘的陰影在早上9點的投影長度 （0~255)\n",
    "- Hillshade_Noon = 山丘的陰影在中午的投影長度 （0~255)\n",
    "- Hillshade_3pm =山丘的陰影在下午3點的投影長度 （0~255)\n",
    "- Horizontal_Distance_To_Fire_Point = 到最近野火的距離\n",
    "- Wilderness_Area = 荒野地區名稱 (4個二進制列，0 =不存在或1 =存在）\n",
    "    - Wilderness_Area1 = Rawah Wilderness Area\n",
    "    - Wilderness_Area2 = Neota Wilderness Area\n",
    "    - Wilderness_Area3 = Comanche Peak Wilderness Area\n",
    "    - Wilderness_Area4 = Cache la Poudre Wilderness Area\n",
    "- Soil_Type1 to Soil_Type40 = 土壤種類名稱 (40個二進制列，0 =不存在或1 =存在)\n",
    "#### LABLES\n",
    "- Cover_Type(7個類型，整數1至7）= 森林覆蓋類型指定\n",
    "    - Spruce/Fir\n",
    "    - Lodgepole Pine\n",
    "    - Ponderosa Pine\n",
    "    - Cottonwood/Willow\n",
    "    - Aspen\n",
    "    - Douglas-fir\n",
    "    - Krummholz"
   ]
  },
  {
   "cell_type": "markdown",
   "metadata": {},
   "source": [
    "### Load data and show data dimension\n",
    "We first load the dataset CoverType`covtype.csv`  , and show its dimensions.\n",
    "\n",
    "\n",
    "We can know how many  features and instances in our dataset"
   ]
  },
  {
   "cell_type": "code",
   "execution_count": 55,
   "metadata": {},
   "outputs": [
    {
     "name": "stdout",
     "output_type": "stream",
     "text": [
      "Data Dimension:\n",
      "Number of data: 581012\n",
      "Number of features: 55\n"
     ]
    }
   ],
   "source": [
    "data=pd.read_csv('covtype.csv')\n",
    "\n",
    "\n",
    "### START CODE HERE ### \n",
    "data_num = data.shape[0]\n",
    "feature_num = data.shape[1]\n",
    "### END CODE HERE ###\n",
    "\n",
    "print('Data Dimension:')\n",
    "print('Number of data:',data_num)\n",
    "print('Number of features:', feature_num)\n"
   ]
  },
  {
   "cell_type": "markdown",
   "metadata": {},
   "source": [
    "### Show the feature name\n",
    " View the feature name in this dataset and we can more understand these features we will use later."
   ]
  },
  {
   "cell_type": "code",
   "execution_count": 56,
   "metadata": {},
   "outputs": [
    {
     "name": "stdout",
     "output_type": "stream",
     "text": [
      "Feature Names\n",
      "Index(['Elevation', 'Aspect', 'Slope', 'Horizontal_Distance_To_Hydrology',\n",
      "       'Vertical_Distance_To_Hydrology', 'Horizontal_Distance_To_Roadways',\n",
      "       'Hillshade_9am', 'Hillshade_Noon', 'Hillshade_3pm',\n",
      "       'Horizontal_Distance_To_Fire_Points', 'Wilderness_Area1',\n",
      "       'Wilderness_Area2', 'Wilderness_Area3', 'Wilderness_Area4',\n",
      "       'Soil_Type1', 'Soil_Type2', 'Soil_Type3', 'Soil_Type4', 'Soil_Type5',\n",
      "       'Soil_Type6', 'Soil_Type7', 'Soil_Type8', 'Soil_Type9', 'Soil_Type10',\n",
      "       'Soil_Type11', 'Soil_Type12', 'Soil_Type13', 'Soil_Type14',\n",
      "       'Soil_Type15', 'Soil_Type16', 'Soil_Type17', 'Soil_Type18',\n",
      "       'Soil_Type19', 'Soil_Type20', 'Soil_Type21', 'Soil_Type22',\n",
      "       'Soil_Type23', 'Soil_Type24', 'Soil_Type25', 'Soil_Type26',\n",
      "       'Soil_Type27', 'Soil_Type28', 'Soil_Type29', 'Soil_Type30',\n",
      "       'Soil_Type31', 'Soil_Type32', 'Soil_Type33', 'Soil_Type34',\n",
      "       'Soil_Type35', 'Soil_Type36', 'Soil_Type37', 'Soil_Type38',\n",
      "       'Soil_Type39', 'Soil_Type40', 'Cover_Type'],\n",
      "      dtype='object')\n"
     ]
    }
   ],
   "source": [
    "print('Feature Names')\n",
    "### START CODE HERE ### \n",
    "print(data.columns) ## 查看資歷的欄位名稱  hint : columns\n",
    "### END CODE HERE ###"
   ]
  },
  {
   "cell_type": "markdown",
   "metadata": {},
   "source": [
    "### Show the data information\n",
    " Now let us understand the data type of each features.\n",
    " \n",
    " We can use `.info()` and this method shows information about  our data  including the index dtype and column dtypes, non-null values."
   ]
  },
  {
   "cell_type": "code",
   "execution_count": 57,
   "metadata": {},
   "outputs": [
    {
     "name": "stdout",
     "output_type": "stream",
     "text": [
      "Data Information\n",
      "<class 'pandas.core.frame.DataFrame'>\n",
      "RangeIndex: 581012 entries, 0 to 581011\n",
      "Data columns (total 55 columns):\n",
      "Elevation                             581012 non-null int64\n",
      "Aspect                                581012 non-null int64\n",
      "Slope                                 581012 non-null int64\n",
      "Horizontal_Distance_To_Hydrology      581012 non-null int64\n",
      "Vertical_Distance_To_Hydrology        581012 non-null int64\n",
      "Horizontal_Distance_To_Roadways       581012 non-null int64\n",
      "Hillshade_9am                         581012 non-null int64\n",
      "Hillshade_Noon                        581012 non-null int64\n",
      "Hillshade_3pm                         581012 non-null int64\n",
      "Horizontal_Distance_To_Fire_Points    581012 non-null int64\n",
      "Wilderness_Area1                      581012 non-null int64\n",
      "Wilderness_Area2                      581012 non-null int64\n",
      "Wilderness_Area3                      581012 non-null int64\n",
      "Wilderness_Area4                      581012 non-null int64\n",
      "Soil_Type1                            581012 non-null int64\n",
      "Soil_Type2                            581012 non-null int64\n",
      "Soil_Type3                            581012 non-null int64\n",
      "Soil_Type4                            581012 non-null int64\n",
      "Soil_Type5                            581012 non-null int64\n",
      "Soil_Type6                            581012 non-null int64\n",
      "Soil_Type7                            581012 non-null int64\n",
      "Soil_Type8                            581012 non-null int64\n",
      "Soil_Type9                            581012 non-null int64\n",
      "Soil_Type10                           581012 non-null int64\n",
      "Soil_Type11                           581012 non-null int64\n",
      "Soil_Type12                           581012 non-null int64\n",
      "Soil_Type13                           581012 non-null int64\n",
      "Soil_Type14                           581012 non-null int64\n",
      "Soil_Type15                           581012 non-null int64\n",
      "Soil_Type16                           581012 non-null int64\n",
      "Soil_Type17                           581012 non-null int64\n",
      "Soil_Type18                           581012 non-null int64\n",
      "Soil_Type19                           581012 non-null int64\n",
      "Soil_Type20                           581012 non-null int64\n",
      "Soil_Type21                           581012 non-null int64\n",
      "Soil_Type22                           581012 non-null int64\n",
      "Soil_Type23                           581012 non-null int64\n",
      "Soil_Type24                           581012 non-null int64\n",
      "Soil_Type25                           581012 non-null int64\n",
      "Soil_Type26                           581012 non-null int64\n",
      "Soil_Type27                           581012 non-null int64\n",
      "Soil_Type28                           581012 non-null int64\n",
      "Soil_Type29                           581012 non-null int64\n",
      "Soil_Type30                           581012 non-null int64\n",
      "Soil_Type31                           581012 non-null int64\n",
      "Soil_Type32                           581012 non-null int64\n",
      "Soil_Type33                           581012 non-null int64\n",
      "Soil_Type34                           581012 non-null int64\n",
      "Soil_Type35                           581012 non-null int64\n",
      "Soil_Type36                           581012 non-null int64\n",
      "Soil_Type37                           581012 non-null int64\n",
      "Soil_Type38                           581012 non-null int64\n",
      "Soil_Type39                           581012 non-null int64\n",
      "Soil_Type40                           581012 non-null int64\n",
      "Cover_Type                            581012 non-null int64\n",
      "dtypes: int64(55)\n",
      "memory usage: 243.8 MB\n",
      "None\n"
     ]
    }
   ],
   "source": [
    "print('Data Information')\n",
    "### START CODE HERE ### \n",
    "print(data.info()) ## 查看資料有幾筆資料、每個欄位的資料型別是什麼 hint : info()\n",
    "### END CODE HERE ###"
   ]
  },
  {
   "cell_type": "markdown",
   "metadata": {},
   "source": [
    "### Check if columns are null or not\n",
    "NULL values are not the same as data values. A NULL value is basically an undefined values.  NULL values cause several problems, In our case, it may lead to bad predicitons.\n",
    " \n",
    "Let's check for missing values  in our dataset or not.\n",
    "\n",
    "\n",
    "hint: We can use function` isnull()` to check every value  is null or not. and use function `sum` to count every column how many null values."
   ]
  },
  {
   "cell_type": "code",
   "execution_count": 58,
   "metadata": {},
   "outputs": [
    {
     "data": {
      "text/plain": [
       "Elevation                             0\n",
       "Aspect                                0\n",
       "Slope                                 0\n",
       "Horizontal_Distance_To_Hydrology      0\n",
       "Vertical_Distance_To_Hydrology        0\n",
       "Horizontal_Distance_To_Roadways       0\n",
       "Hillshade_9am                         0\n",
       "Hillshade_Noon                        0\n",
       "Hillshade_3pm                         0\n",
       "Horizontal_Distance_To_Fire_Points    0\n",
       "Wilderness_Area1                      0\n",
       "Wilderness_Area2                      0\n",
       "Wilderness_Area3                      0\n",
       "Wilderness_Area4                      0\n",
       "Soil_Type1                            0\n",
       "Soil_Type2                            0\n",
       "Soil_Type3                            0\n",
       "Soil_Type4                            0\n",
       "Soil_Type5                            0\n",
       "Soil_Type6                            0\n",
       "Soil_Type7                            0\n",
       "Soil_Type8                            0\n",
       "Soil_Type9                            0\n",
       "Soil_Type10                           0\n",
       "Soil_Type11                           0\n",
       "Soil_Type12                           0\n",
       "Soil_Type13                           0\n",
       "Soil_Type14                           0\n",
       "Soil_Type15                           0\n",
       "Soil_Type16                           0\n",
       "Soil_Type17                           0\n",
       "Soil_Type18                           0\n",
       "Soil_Type19                           0\n",
       "Soil_Type20                           0\n",
       "Soil_Type21                           0\n",
       "Soil_Type22                           0\n",
       "Soil_Type23                           0\n",
       "Soil_Type24                           0\n",
       "Soil_Type25                           0\n",
       "Soil_Type26                           0\n",
       "Soil_Type27                           0\n",
       "Soil_Type28                           0\n",
       "Soil_Type29                           0\n",
       "Soil_Type30                           0\n",
       "Soil_Type31                           0\n",
       "Soil_Type32                           0\n",
       "Soil_Type33                           0\n",
       "Soil_Type34                           0\n",
       "Soil_Type35                           0\n",
       "Soil_Type36                           0\n",
       "Soil_Type37                           0\n",
       "Soil_Type38                           0\n",
       "Soil_Type39                           0\n",
       "Soil_Type40                           0\n",
       "Cover_Type                            0\n",
       "dtype: int64"
      ]
     },
     "execution_count": 58,
     "metadata": {},
     "output_type": "execute_result"
    }
   ],
   "source": [
    "### START CODE HERE ### \n",
    "data.isnull().sum() #確認各欄位沒有缺失值 hint : isnull() ,sum()\n",
    "### END CODE HERE ###"
   ]
  },
  {
   "cell_type": "markdown",
   "metadata": {},
   "source": [
    "###  Convert  Cover_Type data   into dummies\n",
    "\n",
    "\n",
    "According the above cells, we can find the column `Cover_Type` is `integer`, and  the numbers (from 1 to 7) in column actually are used to represent the forest cover type. \n",
    "\n",
    "\n",
    "- There are 7 categories in the coumn `Cover type` and the numbers represent the  the forest cover types. \n",
    "\n",
    "1. Spruce/Fir\n",
    "2. Lodgepole Pine\n",
    "3. Ponderosa Pine\n",
    "4. Cottonwood/Willow\n",
    "5. Aspen\n",
    "6. Douglas-fir\n",
    "7. Krummholz\n",
    "\n",
    "However, we can see that there is no such thing that forest cover type `Ponderosa Pine`(the correspone number is 3)  is higher than forest cover type `Spruce/Fir` (the correspone number is 1) and   forest cover type `Lodgepole Pine`(the correspone number is 2) is less than forest cover type `Aspen`(the correspone number is 5).\n",
    "\n",
    "To represent the categories varible `Cover_type` , we can make a separate column, or variable, for each category. These columns will each showThese columns will each show whether each category was a foreset cover type; if  this instance has `1` in the coumn `Cover_Type_1`, `Spruce/Fir` is its foreset cover type, but if it have a `0`, `Spruce/Fir` did not make the cut. the cover types. 0 indicates non existent while 1 indicates existent. The same goes for each of the dummy variables, as they are called. \n",
    "\n",
    "Let us  use the dummy variables to represent the `Cover_type`. \n",
    "\n",
    "We use [get_dummies](https://pandas.pydata.org/pandas-docs/stable/reference/api/pandas.get_dummies.html) function in pandas to do this, but input in this function  is categor varible. So, we first convert the integer varible `Cover_type` into categorical varible"
   ]
  },
  {
   "cell_type": "code",
   "execution_count": 59,
   "metadata": {},
   "outputs": [
    {
     "name": "stdout",
     "output_type": "stream",
     "text": [
      "Show the columns after using get_dummies function\n",
      "Index(['Elevation', 'Aspect', 'Slope', 'Horizontal_Distance_To_Hydrology',\n",
      "       'Vertical_Distance_To_Hydrology', 'Horizontal_Distance_To_Roadways',\n",
      "       'Hillshade_9am', 'Hillshade_Noon', 'Hillshade_3pm',\n",
      "       'Horizontal_Distance_To_Fire_Points', 'Wilderness_Area1',\n",
      "       'Wilderness_Area2', 'Wilderness_Area3', 'Wilderness_Area4',\n",
      "       'Soil_Type1', 'Soil_Type2', 'Soil_Type3', 'Soil_Type4', 'Soil_Type5',\n",
      "       'Soil_Type6', 'Soil_Type7', 'Soil_Type8', 'Soil_Type9', 'Soil_Type10',\n",
      "       'Soil_Type11', 'Soil_Type12', 'Soil_Type13', 'Soil_Type14',\n",
      "       'Soil_Type15', 'Soil_Type16', 'Soil_Type17', 'Soil_Type18',\n",
      "       'Soil_Type19', 'Soil_Type20', 'Soil_Type21', 'Soil_Type22',\n",
      "       'Soil_Type23', 'Soil_Type24', 'Soil_Type25', 'Soil_Type26',\n",
      "       'Soil_Type27', 'Soil_Type28', 'Soil_Type29', 'Soil_Type30',\n",
      "       'Soil_Type31', 'Soil_Type32', 'Soil_Type33', 'Soil_Type34',\n",
      "       'Soil_Type35', 'Soil_Type36', 'Soil_Type37', 'Soil_Type38',\n",
      "       'Soil_Type39', 'Soil_Type40', 'Cover_Type_1', 'Cover_Type_2',\n",
      "       'Cover_Type_3', 'Cover_Type_4', 'Cover_Type_5', 'Cover_Type_6',\n",
      "       'Cover_Type_7'],\n",
      "      dtype='object')\n",
      "Show from Cover_Type_1 to Cover_Type_7  columns\n"
     ]
    },
    {
     "data": {
      "text/html": [
       "<div>\n",
       "<style scoped>\n",
       "    .dataframe tbody tr th:only-of-type {\n",
       "        vertical-align: middle;\n",
       "    }\n",
       "\n",
       "    .dataframe tbody tr th {\n",
       "        vertical-align: top;\n",
       "    }\n",
       "\n",
       "    .dataframe thead th {\n",
       "        text-align: right;\n",
       "    }\n",
       "</style>\n",
       "<table border=\"1\" class=\"dataframe\">\n",
       "  <thead>\n",
       "    <tr style=\"text-align: right;\">\n",
       "      <th></th>\n",
       "      <th>Cover_Type_1</th>\n",
       "      <th>Cover_Type_2</th>\n",
       "      <th>Cover_Type_3</th>\n",
       "      <th>Cover_Type_4</th>\n",
       "      <th>Cover_Type_5</th>\n",
       "      <th>Cover_Type_6</th>\n",
       "      <th>Cover_Type_7</th>\n",
       "    </tr>\n",
       "  </thead>\n",
       "  <tbody>\n",
       "    <tr>\n",
       "      <th>0</th>\n",
       "      <td>0</td>\n",
       "      <td>0</td>\n",
       "      <td>0</td>\n",
       "      <td>0</td>\n",
       "      <td>1</td>\n",
       "      <td>0</td>\n",
       "      <td>0</td>\n",
       "    </tr>\n",
       "    <tr>\n",
       "      <th>1</th>\n",
       "      <td>0</td>\n",
       "      <td>0</td>\n",
       "      <td>0</td>\n",
       "      <td>0</td>\n",
       "      <td>1</td>\n",
       "      <td>0</td>\n",
       "      <td>0</td>\n",
       "    </tr>\n",
       "    <tr>\n",
       "      <th>2</th>\n",
       "      <td>0</td>\n",
       "      <td>1</td>\n",
       "      <td>0</td>\n",
       "      <td>0</td>\n",
       "      <td>0</td>\n",
       "      <td>0</td>\n",
       "      <td>0</td>\n",
       "    </tr>\n",
       "    <tr>\n",
       "      <th>3</th>\n",
       "      <td>0</td>\n",
       "      <td>1</td>\n",
       "      <td>0</td>\n",
       "      <td>0</td>\n",
       "      <td>0</td>\n",
       "      <td>0</td>\n",
       "      <td>0</td>\n",
       "    </tr>\n",
       "    <tr>\n",
       "      <th>4</th>\n",
       "      <td>0</td>\n",
       "      <td>0</td>\n",
       "      <td>0</td>\n",
       "      <td>0</td>\n",
       "      <td>1</td>\n",
       "      <td>0</td>\n",
       "      <td>0</td>\n",
       "    </tr>\n",
       "    <tr>\n",
       "      <th>5</th>\n",
       "      <td>0</td>\n",
       "      <td>1</td>\n",
       "      <td>0</td>\n",
       "      <td>0</td>\n",
       "      <td>0</td>\n",
       "      <td>0</td>\n",
       "      <td>0</td>\n",
       "    </tr>\n",
       "    <tr>\n",
       "      <th>6</th>\n",
       "      <td>0</td>\n",
       "      <td>0</td>\n",
       "      <td>0</td>\n",
       "      <td>0</td>\n",
       "      <td>1</td>\n",
       "      <td>0</td>\n",
       "      <td>0</td>\n",
       "    </tr>\n",
       "    <tr>\n",
       "      <th>7</th>\n",
       "      <td>0</td>\n",
       "      <td>0</td>\n",
       "      <td>0</td>\n",
       "      <td>0</td>\n",
       "      <td>1</td>\n",
       "      <td>0</td>\n",
       "      <td>0</td>\n",
       "    </tr>\n",
       "    <tr>\n",
       "      <th>8</th>\n",
       "      <td>0</td>\n",
       "      <td>0</td>\n",
       "      <td>0</td>\n",
       "      <td>0</td>\n",
       "      <td>1</td>\n",
       "      <td>0</td>\n",
       "      <td>0</td>\n",
       "    </tr>\n",
       "    <tr>\n",
       "      <th>9</th>\n",
       "      <td>0</td>\n",
       "      <td>0</td>\n",
       "      <td>0</td>\n",
       "      <td>0</td>\n",
       "      <td>1</td>\n",
       "      <td>0</td>\n",
       "      <td>0</td>\n",
       "    </tr>\n",
       "  </tbody>\n",
       "</table>\n",
       "</div>"
      ],
      "text/plain": [
       "   Cover_Type_1  Cover_Type_2  Cover_Type_3  Cover_Type_4  Cover_Type_5  \\\n",
       "0             0             0             0             0             1   \n",
       "1             0             0             0             0             1   \n",
       "2             0             1             0             0             0   \n",
       "3             0             1             0             0             0   \n",
       "4             0             0             0             0             1   \n",
       "5             0             1             0             0             0   \n",
       "6             0             0             0             0             1   \n",
       "7             0             0             0             0             1   \n",
       "8             0             0             0             0             1   \n",
       "9             0             0             0             0             1   \n",
       "\n",
       "   Cover_Type_6  Cover_Type_7  \n",
       "0             0             0  \n",
       "1             0             0  \n",
       "2             0             0  \n",
       "3             0             0  \n",
       "4             0             0  \n",
       "5             0             0  \n",
       "6             0             0  \n",
       "7             0             0  \n",
       "8             0             0  \n",
       "9             0             0  "
      ]
     },
     "execution_count": 59,
     "metadata": {},
     "output_type": "execute_result"
    }
   ],
   "source": [
    "data['Cover_Type']=data['Cover_Type'].astype('category') # 先將它轉成category的格式\n",
    "data= pd.get_dummies(data, columns=['Cover_Type']) #再將它轉成dummy\n",
    "\n",
    "print('Show the columns after using get_dummies function')\n",
    "print(data.columns)\n",
    "print('Show from Cover_Type_1 to Cover_Type_7  columns')\n",
    "data.iloc[: , 54: ].head(10)"
   ]
  },
  {
   "cell_type": "markdown",
   "metadata": {},
   "source": [
    "We can find 2 points from above:\n",
    "1. We convert `Cover_type` varible to dummies and create 7 varibles ( Cover_Type_1 ~ Cover_Type_7 ) in our dataset.\n",
    "2. In these varibles, 0 indicates non existent while 1 indicates existent, and we will use this as our target varibles."
   ]
  },
  {
   "cell_type": "markdown",
   "metadata": {},
   "source": [
    "### Split data into training and testing data\n",
    "\n",
    "Now split the dataset into a training set and a test set.\n",
    "\n",
    "We will use the test set in the final evaluation of our model.\n",
    "\n",
    "- num_train: number of training samples -> 80% data\n",
    "- num_test: number of test samples ->20% data\n"
   ]
  },
  {
   "cell_type": "code",
   "execution_count": 39,
   "metadata": {},
   "outputs": [
    {
     "name": "stdout",
     "output_type": "stream",
     "text": [
      "oringinal data shape: (581012, 61)\n",
      "train shape: (464810, 61)\n",
      "test shape: (116202, 61)\n"
     ]
    }
   ],
   "source": [
    "## 將資料分成 training 跟 test \n",
    "train = data.sample(frac=0.8,random_state=0)\n",
    "test = data.drop(train.index)\n",
    "train = np.array(train)\n",
    "test = np.array(test)\n",
    "\n",
    "print(\"oringinal data shape: \" + str(data.shape)) # =>(581012, 61)\n",
    "print(\"train shape: \" + str(train.shape)) # => (464810, 61)\n",
    "print(\"test shape: \" + str(test.shape)) # =>(116202, 61)"
   ]
  },
  {
   "cell_type": "markdown",
   "metadata": {},
   "source": [
    "### Split features from labels\n",
    "\n",
    "Separate the target value, or \"label\", from the features. This label is the value that you will train the model to predict.\n",
    "\n",
    "- X: 112925 samples with size (112925, 63)\n",
    "- y: 112925 labels with size (112925, 1)\n",
    "- X_test: 40 test samples with size (4, 40)\n",
    "- y_test: 40 test labels with size (1, 40)"
   ]
  },
  {
   "cell_type": "code",
   "execution_count": 40,
   "metadata": {},
   "outputs": [
    {
     "name": "stdout",
     "output_type": "stream",
     "text": [
      "train_x shape: (464810, 54)\n",
      "train_y shape: (464810, 7)\n",
      "test_x shape: (116202, 54)\n",
      "test_y shape: (116202, 7)\n"
     ]
    }
   ],
   "source": [
    "### START CODE HERE ### \n",
    "train_x = train[:,:54]\n",
    "train_y = train[:,54:]\n",
    "test_x = test[:,:54]\n",
    "test_y = test[:,54:] \n",
    "### END CODE HERE ###\n",
    "\n",
    "print(\"train_x shape: \" + str(train_x.shape)) # => (464810, 54)\n",
    "print(\"train_y shape: \" + str(train_y.shape)) # =>  (464810, 7))\n",
    "print(\"test_x shape: \" + str(test_x.shape)) # =>(116202, 54)\n",
    "print(\"test_y shape: \" + str(test_y.shape)) # =>(116202, 7)"
   ]
  },
  {
   "cell_type": "markdown",
   "metadata": {},
   "source": [
    "## Feature normalization (feature scaling)\n",
    "\n",
    "The the sizes and number of bedrooms are at different scales. We perform feature normalization to make learning easier."
   ]
  },
  {
   "cell_type": "code",
   "execution_count": 41,
   "metadata": {},
   "outputs": [],
   "source": [
    "def compute_mean_std(X):\n",
    "    \"\"\" \n",
    "    X: 訓練資料 \n",
    "    mu: 平均數\n",
    "    sigma: 標準差\n",
    "    \"\"\"  \n",
    "    # hint 若利用np.mean()，需加上`keepdim=True`。\n",
    "    mu = np.mean(X, keepdims = True , axis=0)\n",
    "    sigma = np.std(X, keepdims = True , axis=0)\n",
    "\n",
    "    return mu, sigma\n",
    "\n",
    "# 利用平均數跟標準差進行標準化\n",
    "def normalize_feat(X, mu, sigma):\n",
    "    \n",
    "    \n",
    "    ### START CODE HERE ### \n",
    "    normalized_X = (X - mu) / sigma\n",
    "    ### END CODE HERE ###\n",
    "        \n",
    "        \n",
    "    return normalized_X\n",
    "\n",
    "\n",
    "\n",
    "mu, sigma = compute_mean_std(train_x)\n",
    "\n",
    "# 讓訓練資料跟測試資料都進行標準化\n",
    "\n",
    "train_x = normalize_feat(train_x, mu, sigma)\n",
    "test_x = normalize_feat(test_x, mu, sigma)"
   ]
  },
  {
   "cell_type": "markdown",
   "metadata": {},
   "source": [
    "## Building the model\n",
    "Let's build our model. Here, we'll use a Sequential model with two densely connected hidden layers, and an output layer that returns a single, continuous value. The model building steps are wrapped in a function, build_model, since we'll create a second model, later on."
   ]
  },
  {
   "cell_type": "code",
   "execution_count": 30,
   "metadata": {},
   "outputs": [],
   "source": [
    "def build_model(input_dim,learning_rate):\n",
    "    \n",
    "    \n",
    "    model = keras.Sequential([\n",
    "        ### START CODE HERE ### \n",
    "        layers.Dense(64, activation='relu', input_shape=(input_dim,)),  #input維度為(input_dim,*) output維度為(*,64)\n",
    "        layers.Dense(64, activation='relu'), ## 這裡的activation 可以跟上面的一樣\n",
    "        keras.layers.Dense(7, activation=  'softmax') #這裡是最後一層 所以 output維度 跟 activation 會不一樣\n",
    "    \n",
    "        ### END CODE HERE ###\n",
    "  ])\n",
    "    \n",
    "    ### START CODE HERE ### \n",
    "    optimizer =  tf.optimizers.Adam(lr=learning_rate) ## 我們使用ADAM當作我們的optimizer,並在裡面設定learing_rate參數 hint : tf.optimizers\n",
    "    ### START CODE HERE ### \n",
    "    model.compile(optimizer,\n",
    "                  loss='categorical_crossentropy',\n",
    "                  metrics=['accuracy'])\n",
    "    return model"
   ]
  },
  {
   "cell_type": "markdown",
   "metadata": {},
   "source": [
    "## Set the input dimension and learning rate\n",
    "\n",
    "In order to use our model function, we have to set input dimension and learning rate\n",
    "\n",
    "-  Input dimension : eature number of training set\n",
    "-  Learning rate : learning rate of the gradient descent update rule\n",
    "\n",
    "Here, we use 0.001 as our learning rate."
   ]
  },
  {
   "cell_type": "code",
   "execution_count": 31,
   "metadata": {},
   "outputs": [],
   "source": [
    "### START CODE HERE ###\n",
    "### hint: feature number of training set\n",
    "dim =train_x.shape[1]\n",
    "### END CODE HERE ###\n",
    "learning_rate=0.001\n",
    "\n",
    "model = build_model(input_dim=dim,learning_rate=learning_rate)"
   ]
  },
  {
   "cell_type": "markdown",
   "metadata": {},
   "source": [
    "## Inspect the model\n",
    "\n",
    "Use the `.summary` method to print a simple description of the model"
   ]
  },
  {
   "cell_type": "code",
   "execution_count": 32,
   "metadata": {},
   "outputs": [
    {
     "name": "stdout",
     "output_type": "stream",
     "text": [
      "Model: \"sequential_2\"\n",
      "_________________________________________________________________\n",
      "Layer (type)                 Output Shape              Param #   \n",
      "=================================================================\n",
      "dense_6 (Dense)              (None, 64)                3520      \n",
      "_________________________________________________________________\n",
      "dense_7 (Dense)              (None, 64)                4160      \n",
      "_________________________________________________________________\n",
      "dense_8 (Dense)              (None, 7)                 455       \n",
      "=================================================================\n",
      "Total params: 8,135\n",
      "Trainable params: 8,135\n",
      "Non-trainable params: 0\n",
      "_________________________________________________________________\n"
     ]
    }
   ],
   "source": [
    "model.summary()"
   ]
  },
  {
   "cell_type": "markdown",
   "metadata": {},
   "source": [
    "## Train the model\n",
    "\n",
    "Train the model for 30 epochs , and record the training and validation accuracy in the `history1` object."
   ]
  },
  {
   "cell_type": "code",
   "execution_count": 14,
   "metadata": {},
   "outputs": [
    {
     "name": "stdout",
     "output_type": "stream",
     "text": [
      "Train on 371848 samples, validate on 92962 samples\n",
      "Epoch 1/30\n",
      "371848/371848 [==============================] - 12s 33us/sample - loss: 0.5629 - accuracy: 0.7597 - val_loss: 0.4896 - val_accuracy: 0.7914\n",
      "Epoch 2/30\n",
      "371848/371848 [==============================] - 12s 33us/sample - loss: 0.4584 - accuracy: 0.8053 - val_loss: 0.4361 - val_accuracy: 0.8206\n",
      "Epoch 3/30\n",
      "371848/371848 [==============================] - 13s 34us/sample - loss: 0.4165 - accuracy: 0.8257 - val_loss: 0.4141 - val_accuracy: 0.8256\n",
      "Epoch 4/30\n",
      "371848/371848 [==============================] - 12s 32us/sample - loss: 0.3902 - accuracy: 0.8376 - val_loss: 0.3810 - val_accuracy: 0.8405\n",
      "Epoch 5/30\n",
      "371848/371848 [==============================] - 11s 31us/sample - loss: 0.3719 - accuracy: 0.8456 - val_loss: 0.3777 - val_accuracy: 0.8430\n",
      "Epoch 6/30\n",
      "371848/371848 [==============================] - 12s 31us/sample - loss: 0.3576 - accuracy: 0.8527 - val_loss: 0.3548 - val_accuracy: 0.8544\n",
      "Epoch 7/30\n",
      "371848/371848 [==============================] - 12s 33us/sample - loss: 0.3467 - accuracy: 0.8572 - val_loss: 0.3496 - val_accuracy: 0.8570\n",
      "Epoch 8/30\n",
      "371848/371848 [==============================] - 12s 33us/sample - loss: 0.3377 - accuracy: 0.8609 - val_loss: 0.3450 - val_accuracy: 0.8580\n",
      "Epoch 9/30\n",
      "371848/371848 [==============================] - 12s 33us/sample - loss: 0.3314 - accuracy: 0.8637 - val_loss: 0.3345 - val_accuracy: 0.8637\n",
      "Epoch 10/30\n",
      "371848/371848 [==============================] - 12s 33us/sample - loss: 0.3249 - accuracy: 0.8669 - val_loss: 0.3215 - val_accuracy: 0.8688\n",
      "Epoch 11/30\n",
      "371848/371848 [==============================] - 13s 34us/sample - loss: 0.3203 - accuracy: 0.8687 - val_loss: 0.3254 - val_accuracy: 0.8653\n",
      "Epoch 12/30\n",
      "371848/371848 [==============================] - 13s 35us/sample - loss: 0.3159 - accuracy: 0.8701 - val_loss: 0.3201 - val_accuracy: 0.8702\n",
      "Epoch 13/30\n",
      "371848/371848 [==============================] - 12s 31us/sample - loss: 0.3115 - accuracy: 0.8722 - val_loss: 0.3145 - val_accuracy: 0.8704\n",
      "Epoch 14/30\n",
      "371848/371848 [==============================] - 13s 36us/sample - loss: 0.3071 - accuracy: 0.8741 - val_loss: 0.3137 - val_accuracy: 0.8703\n",
      "Epoch 15/30\n",
      "371848/371848 [==============================] - 13s 34us/sample - loss: 0.3047 - accuracy: 0.8748 - val_loss: 0.3099 - val_accuracy: 0.8740\n",
      "Epoch 16/30\n",
      "371848/371848 [==============================] - 12s 33us/sample - loss: 0.3019 - accuracy: 0.8760 - val_loss: 0.3053 - val_accuracy: 0.8761\n",
      "Epoch 17/30\n",
      "371848/371848 [==============================] - 13s 34us/sample - loss: 0.2983 - accuracy: 0.8778 - val_loss: 0.3064 - val_accuracy: 0.8744\n",
      "Epoch 18/30\n",
      "371848/371848 [==============================] - 13s 34us/sample - loss: 0.2970 - accuracy: 0.8782 - val_loss: 0.3119 - val_accuracy: 0.8730\n",
      "Epoch 19/30\n",
      "371848/371848 [==============================] - 11s 31us/sample - loss: 0.2946 - accuracy: 0.8798 - val_loss: 0.3267 - val_accuracy: 0.8631\n",
      "Epoch 20/30\n",
      "371848/371848 [==============================] - 12s 32us/sample - loss: 0.2919 - accuracy: 0.8814 - val_loss: 0.2881 - val_accuracy: 0.8840\n",
      "Epoch 21/30\n",
      "371848/371848 [==============================] - 12s 32us/sample - loss: 0.2901 - accuracy: 0.8813 - val_loss: 0.2955 - val_accuracy: 0.8814\n",
      "Epoch 22/30\n",
      "371848/371848 [==============================] - 13s 34us/sample - loss: 0.2877 - accuracy: 0.8819 - val_loss: 0.2873 - val_accuracy: 0.8855\n",
      "Epoch 23/30\n",
      "371848/371848 [==============================] - 11s 31us/sample - loss: 0.2858 - accuracy: 0.8830 - val_loss: 0.2910 - val_accuracy: 0.8810\n",
      "Epoch 24/30\n",
      "371848/371848 [==============================] - 15s 39us/sample - loss: 0.2843 - accuracy: 0.8839 - val_loss: 0.2982 - val_accuracy: 0.8779\n",
      "Epoch 25/30\n",
      "371848/371848 [==============================] - 12s 33us/sample - loss: 0.2819 - accuracy: 0.8852 - val_loss: 0.2927 - val_accuracy: 0.8800\n",
      "Epoch 26/30\n",
      "371848/371848 [==============================] - 12s 33us/sample - loss: 0.2807 - accuracy: 0.8852 - val_loss: 0.3042 - val_accuracy: 0.8748\n",
      "Epoch 27/30\n",
      "371848/371848 [==============================] - 11s 30us/sample - loss: 0.2792 - accuracy: 0.8863 - val_loss: 0.2798 - val_accuracy: 0.8865\n",
      "Epoch 28/30\n",
      "371848/371848 [==============================] - 12s 32us/sample - loss: 0.2781 - accuracy: 0.8865 - val_loss: 0.2828 - val_accuracy: 0.8862\n",
      "Epoch 29/30\n",
      "371848/371848 [==============================] - 14s 37us/sample - loss: 0.2764 - accuracy: 0.8875 - val_loss: 0.2833 - val_accuracy: 0.8860\n",
      "Epoch 30/30\n",
      "371848/371848 [==============================] - 12s 32us/sample - loss: 0.2751 - accuracy: 0.8880 - val_loss: 0.2816 - val_accuracy: 0.8859\n"
     ]
    }
   ],
   "source": [
    "history1 = model.fit(\n",
    " train_x, train_y,\n",
    " epochs= 30, batch_size = 50,\n",
    " validation_split = 0.2)"
   ]
  },
  {
   "cell_type": "markdown",
   "metadata": {},
   "source": [
    "## Show the training and validation loss and accuracy plots\n",
    "We use `history1` object to show the training and validation loss plot ."
   ]
  },
  {
   "cell_type": "code",
   "execution_count": 15,
   "metadata": {},
   "outputs": [
    {
     "data": {
      "image/png": "[encoded data removed]",
      "text/plain": [
       "<Figure size 432x288 with 1 Axes>"
      ]
     },
     "metadata": {
      "needs_background": "light"
     },
     "output_type": "display_data"
    }
   ],
   "source": [
    "plt.plot(history1.history['loss'])\n",
    "plt.plot(history1.history['val_loss'])\n",
    "plt.title('Model Loss')\n",
    "plt.ylabel('Loss')\n",
    "plt.xlabel('Epochs')\n",
    "plt.legend(['train', 'validation'])\n",
    "plt.show()"
   ]
  },
  {
   "cell_type": "markdown",
   "metadata": {},
   "source": [
    "Again ,we use `history1` object to show the training and validation accuracy plot ."
   ]
  },
  {
   "cell_type": "code",
   "execution_count": 16,
   "metadata": {},
   "outputs": [
    {
     "data": {
      "image/png": "[encoded data removed]",
      "text/plain": [
       "<Figure size 432x288 with 1 Axes>"
      ]
     },
     "metadata": {
      "needs_background": "light"
     },
     "output_type": "display_data"
    }
   ],
   "source": [
    "plt.plot(history1.history['accuracy'])\n",
    "plt.plot(history1.history['val_accuracy'])\n",
    "plt.title('Model Accuracy')\n",
    "plt.ylabel('Accuracy')\n",
    "plt.xlabel('Epochs')\n",
    "plt.legend(['train', 'validaiton'])\n",
    "plt.show()"
   ]
  },
  {
   "cell_type": "markdown",
   "metadata": {},
   "source": [
    "## Evaluate our model acuuracy\n",
    " Let us use the test data `test_x`and `test_y` to evaluate our model.\n",
    "\n",
    "\n",
    "We can get loss and accuracy from this.\n",
    "\n",
    "hint : we  use `model.evaluate(x,y)` to get loss and accuracy"
   ]
  },
  {
   "cell_type": "code",
   "execution_count": 18,
   "metadata": {
    "scrolled": true
   },
   "outputs": [
    {
     "name": "stderr",
     "output_type": "stream",
     "text": [
      "IOPub data rate exceeded.\n",
      "The notebook server will temporarily stop sending output\n",
      "to the client in order to avoid crashing it.\n",
      "To change this limit, set the config variable\n",
      "`--NotebookApp.iopub_data_rate_limit`.\n",
      "\n",
      "Current values:\n",
      "NotebookApp.iopub_data_rate_limit=1000000.0 (bytes/sec)\n",
      "NotebookApp.rate_limit_window=3.0 (secs)\n",
      "\n"
     ]
    },
    {
     "name": "stdout",
     "output_type": "stream",
     "text": [
      "Training accuracy: 0.2842017861082156 \n",
      " Test accuracy: 0.8847438\n"
     ]
    }
   ],
   "source": [
    "### START CODE HERE ###\n",
    "loss, accuracy = model.evaluate(test_x, test_y)\n",
    "### END CODE HERE ###\n",
    "print('test loss:', loss, '\\n Test accuracy:', accuracy) "
   ]
  },
  {
   "cell_type": "markdown",
   "metadata": {},
   "source": [
    "## Build your own model\n",
    "\n",
    "Try different learning rate or optimizer (etc. Stochastic gradient descent(SGD), Momentum, Adam). \n",
    "\n",
    "You can learn more about the usage of optimizer in Keras [here](https://keras.io/zh/optimizers/).\n",
    "\n",
    "Build the model, and plot the loss of train&validation set. Does it perform better? Does it perform as well in test set?"
   ]
  },
  {
   "cell_type": "code",
   "execution_count": null,
   "metadata": {},
   "outputs": [],
   "source": [
    "def build_model2(input_dim,learning_rate):\n",
    "    \n",
    "    \n",
    "    model = keras.Sequential([\n",
    "        layers.Dense(___, activation=___, input_shape=(input_dim,)),  \n",
    "\n",
    "        \n",
    "        ### START CODE HERE ### \n",
    "\n",
    "        ### END CODE HERE ###\n",
    "        \n",
    "        keras.layers.Dense(7, activation=  'softmax')\n",
    "  ])\n",
    "    optimizer =  \n",
    "    \n",
    "    model.compile(optimizer,\n",
    "                  loss='categorical_crossentropy',\n",
    "                  metrics=['accuracy'])\n",
    "    return model"
   ]
  },
  {
   "cell_type": "markdown",
   "metadata": {},
   "source": [
    "## Inspect the model\n",
    "\n",
    "Use the `.summary` method to print a simple description of the model"
   ]
  },
  {
   "cell_type": "code",
   "execution_count": null,
   "metadata": {},
   "outputs": [],
   "source": [
    "model.summary()"
   ]
  },
  {
   "cell_type": "markdown",
   "metadata": {},
   "source": [
    "## Set the input dimension and learning rate\n",
    "\n",
    "In order to use our model function, we have to set input dimension and learning rate\n",
    "\n",
    "-  Input dimension : eature number of training set\n",
    "-  Learning rate : learning rate of the gradient descent update rule\n",
    "\n",
    "\n",
    "Here, you can fine-tune  learning rate to   train the network."
   ]
  },
  {
   "cell_type": "code",
   "execution_count": null,
   "metadata": {},
   "outputs": [],
   "source": [
    "### START CODE HERE ###\n",
    "### hint: feature number of training set\n",
    "dim =\n",
    "### END CODE HERE ###\n",
    "learning_rate=\n",
    "\n",
    "model = build_model2(input_dim=dim,learning_rate=learning_rate)"
   ]
  },
  {
   "cell_type": "markdown",
   "metadata": {},
   "source": [
    "## Train the model\n",
    "Train the model , and record the training and validation accuracy in the `history2` object.\n",
    "\n",
    "You can adjust the `epochs` and `batch_size`  \n"
   ]
  },
  {
   "cell_type": "code",
   "execution_count": null,
   "metadata": {},
   "outputs": [],
   "source": [
    "\n",
    "### START CODE HERE ###\n",
    "history2 = model.fit(\n",
    " train_x, train_y,\n",
    " epochs= 30, batch_size = 50,\n",
    " ,validation_split = 0.2)\n",
    "### END CODE HERE ###"
   ]
  },
  {
   "cell_type": "markdown",
   "metadata": {},
   "source": [
    "## Show the training and validation loss and accuracy plots\n",
    "We use `history2` object to show the training and validation loss plot .## Show the training and validation loss plot "
   ]
  },
  {
   "cell_type": "code",
   "execution_count": null,
   "metadata": {},
   "outputs": [],
   "source": [
    "plt.plot(history2.history['loss'])\n",
    "plt.plot(history2.history['val_loss'])\n",
    "plt.title('Model Loss')\n",
    "plt.ylabel('Loss')\n",
    "plt.xlabel('Epochs')\n",
    "plt.legend(['train', 'validation'])\n",
    "plt.show()"
   ]
  },
  {
   "cell_type": "markdown",
   "metadata": {},
   "source": [
    "Again ,we use `history2` object to show the training and validation accuracy plot ."
   ]
  },
  {
   "cell_type": "code",
   "execution_count": null,
   "metadata": {
    "scrolled": true
   },
   "outputs": [],
   "source": [
    "plt.plot(history2.history['accuracy'])\n",
    "plt.plot(history2.history['val_accuracy'])\n",
    "plt.title('Model Accuracy')\n",
    "plt.ylabel('Accuracy')\n",
    "plt.xlabel('Epochs')\n",
    "plt.legend(['train', 'validaiton'])\n",
    "plt.show()"
   ]
  },
  {
   "cell_type": "markdown",
   "metadata": {},
   "source": [
    "## Evaluate our model acuuracy\n",
    " Let us use the test data `test_x`and `test_y` to evaluate our model.\n",
    "\n",
    "\n",
    "We can get loss and accuracy from this.\n",
    "\n",
    "hint : we  use `model.evaluate(x,y)` to get loss and accuracy"
   ]
  },
  {
   "cell_type": "code",
   "execution_count": null,
   "metadata": {
    "scrolled": true
   },
   "outputs": [],
   "source": [
    "### START CODE HERE ###\n",
    "loss, accuracy = model.evaluate(test_x, test_y) ## hint :  model.evaluate(x,y)\n",
    "### END CODE HERE ###\n",
    "print('test loss:', loss, '\\n Test accuracy:', accuracy) "
   ]
  }
 ],
 "metadata": {
  "kernelspec": {
   "display_name": "Python 3",
   "language": "python",
   "name": "python3"
  },
  "language_info": {
   "codemirror_mode": {
    "name": "ipython",
    "version": 3
   },
   "file_extension": ".py",
   "mimetype": "text/x-python",
   "name": "python",
   "nbconvert_exporter": "python",
   "pygments_lexer": "ipython3",
   "version": "3.6.8"
  }
 },
 "nbformat": 4,
 "nbformat_minor": 4
}
