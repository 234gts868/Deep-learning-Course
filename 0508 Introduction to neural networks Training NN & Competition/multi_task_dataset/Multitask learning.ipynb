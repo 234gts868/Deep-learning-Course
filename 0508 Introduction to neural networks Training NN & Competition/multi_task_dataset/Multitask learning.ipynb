{
 "cells": [
  {
   "cell_type": "code",
   "execution_count": 1,
   "metadata": {},
   "outputs": [],
   "source": [
    "import pandas as pd\n",
    "import numpy as np\n",
    "import tensorflow as tf\n",
    "import matplotlib.pyplot as plt\n",
    "from tensorflow.keras import utils"
   ]
  },
  {
   "cell_type": "code",
   "execution_count": 67,
   "metadata": {},
   "outputs": [
    {
     "data": {
      "text/html": [
       "<div>\n",
       "<style scoped>\n",
       "    .dataframe tbody tr th:only-of-type {\n",
       "        vertical-align: middle;\n",
       "    }\n",
       "\n",
       "    .dataframe tbody tr th {\n",
       "        vertical-align: top;\n",
       "    }\n",
       "\n",
       "    .dataframe thead th {\n",
       "        text-align: right;\n",
       "    }\n",
       "</style>\n",
       "<table border=\"1\" class=\"dataframe\">\n",
       "  <thead>\n",
       "    <tr style=\"text-align: right;\">\n",
       "      <th></th>\n",
       "      <th>left_eye_x</th>\n",
       "      <th>right_eye_x</th>\n",
       "      <th>nose_x</th>\n",
       "      <th>left_mouth_x</th>\n",
       "      <th>right_mouth_x</th>\n",
       "      <th>left_eye_y</th>\n",
       "      <th>right_eye_y</th>\n",
       "      <th>nose_y</th>\n",
       "      <th>left_mouth_y</th>\n",
       "      <th>right_mouth_y</th>\n",
       "      <th>gender</th>\n",
       "      <th>smile</th>\n",
       "      <th>glasses</th>\n",
       "      <th>head_pose</th>\n",
       "      <th>path</th>\n",
       "    </tr>\n",
       "  </thead>\n",
       "  <tbody>\n",
       "    <tr>\n",
       "      <th>0</th>\n",
       "      <td>0.429</td>\n",
       "      <td>0.591</td>\n",
       "      <td>0.505</td>\n",
       "      <td>0.425</td>\n",
       "      <td>0.563</td>\n",
       "      <td>0.435</td>\n",
       "      <td>0.453</td>\n",
       "      <td>0.575</td>\n",
       "      <td>0.635</td>\n",
       "      <td>0.651</td>\n",
       "      <td>1.0</td>\n",
       "      <td>2.0</td>\n",
       "      <td>2.0</td>\n",
       "      <td>3.0</td>\n",
       "      <td>lfw_5590/Aaron_Eckhart_0001.jpg</td>\n",
       "    </tr>\n",
       "    <tr>\n",
       "      <th>1</th>\n",
       "      <td>0.405</td>\n",
       "      <td>0.587</td>\n",
       "      <td>0.501</td>\n",
       "      <td>0.375</td>\n",
       "      <td>0.559</td>\n",
       "      <td>0.449</td>\n",
       "      <td>0.471</td>\n",
       "      <td>0.551</td>\n",
       "      <td>0.643</td>\n",
       "      <td>0.659</td>\n",
       "      <td>1.0</td>\n",
       "      <td>1.0</td>\n",
       "      <td>2.0</td>\n",
       "      <td>3.0</td>\n",
       "      <td>lfw_5590/Aaron_Guiel_0001.jpg</td>\n",
       "    </tr>\n",
       "    <tr>\n",
       "      <th>2</th>\n",
       "      <td>0.431</td>\n",
       "      <td>0.591</td>\n",
       "      <td>0.521</td>\n",
       "      <td>0.437</td>\n",
       "      <td>0.591</td>\n",
       "      <td>0.457</td>\n",
       "      <td>0.457</td>\n",
       "      <td>0.563</td>\n",
       "      <td>0.617</td>\n",
       "      <td>0.615</td>\n",
       "      <td>1.0</td>\n",
       "      <td>1.0</td>\n",
       "      <td>2.0</td>\n",
       "      <td>3.0</td>\n",
       "      <td>lfw_5590/Aaron_Peirsol_0001.jpg</td>\n",
       "    </tr>\n",
       "    <tr>\n",
       "      <th>3</th>\n",
       "      <td>0.411</td>\n",
       "      <td>0.585</td>\n",
       "      <td>0.505</td>\n",
       "      <td>0.483</td>\n",
       "      <td>0.589</td>\n",
       "      <td>0.471</td>\n",
       "      <td>0.419</td>\n",
       "      <td>0.551</td>\n",
       "      <td>0.659</td>\n",
       "      <td>0.627</td>\n",
       "      <td>1.0</td>\n",
       "      <td>2.0</td>\n",
       "      <td>2.0</td>\n",
       "      <td>3.0</td>\n",
       "      <td>lfw_5590/Aaron_Pena_0001.jpg</td>\n",
       "    </tr>\n",
       "    <tr>\n",
       "      <th>4</th>\n",
       "      <td>0.409</td>\n",
       "      <td>0.579</td>\n",
       "      <td>0.523</td>\n",
       "      <td>0.401</td>\n",
       "      <td>0.573</td>\n",
       "      <td>0.453</td>\n",
       "      <td>0.451</td>\n",
       "      <td>0.555</td>\n",
       "      <td>0.625</td>\n",
       "      <td>0.623</td>\n",
       "      <td>1.0</td>\n",
       "      <td>1.0</td>\n",
       "      <td>2.0</td>\n",
       "      <td>3.0</td>\n",
       "      <td>lfw_5590/Aaron_Sorkin_0001.jpg</td>\n",
       "    </tr>\n",
       "  </tbody>\n",
       "</table>\n",
       "</div>"
      ],
      "text/plain": [
       "   left_eye_x  right_eye_x  nose_x  left_mouth_x  right_mouth_x  left_eye_y  \\\n",
       "0       0.429        0.591   0.505         0.425          0.563       0.435   \n",
       "1       0.405        0.587   0.501         0.375          0.559       0.449   \n",
       "2       0.431        0.591   0.521         0.437          0.591       0.457   \n",
       "3       0.411        0.585   0.505         0.483          0.589       0.471   \n",
       "4       0.409        0.579   0.523         0.401          0.573       0.453   \n",
       "\n",
       "   right_eye_y  nose_y  left_mouth_y  right_mouth_y  gender  smile  glasses  \\\n",
       "0        0.453   0.575         0.635          0.651     1.0    2.0      2.0   \n",
       "1        0.471   0.551         0.643          0.659     1.0    1.0      2.0   \n",
       "2        0.457   0.563         0.617          0.615     1.0    1.0      2.0   \n",
       "3        0.419   0.551         0.659          0.627     1.0    2.0      2.0   \n",
       "4        0.451   0.555         0.625          0.623     1.0    1.0      2.0   \n",
       "\n",
       "   head_pose                             path  \n",
       "0        3.0  lfw_5590/Aaron_Eckhart_0001.jpg  \n",
       "1        3.0    lfw_5590/Aaron_Guiel_0001.jpg  \n",
       "2        3.0  lfw_5590/Aaron_Peirsol_0001.jpg  \n",
       "3        3.0     lfw_5590/Aaron_Pena_0001.jpg  \n",
       "4        3.0   lfw_5590/Aaron_Sorkin_0001.jpg  "
      ]
     },
     "execution_count": 67,
     "metadata": {},
     "output_type": "execute_result"
    }
   ],
   "source": [
    "# Import training/test files in Pandas\n",
    "# CSV_COLUMN_NAMES = [\n",
    "#     'path','left_eye_x','right_eye_x','nose_x','left_mouth_x','right_mouth_x','left_eye_y','right_eye_y',\n",
    "#     'nose_y','left_mouth_y','right_mouth_y','gender','smile','glasses','head_pose']\n",
    "# train_data = pd.read_csv('training.txt', sep=' ',names=CSV_COLUMN_NAMES, header=None, skipinitialspace=True, nrows=10000)\n",
    "# test_data = pd.read_csv('testing.txt', sep=' ',names=CSV_COLUMN_NAMES, header=None, skipinitialspace=True, nrows=2995)\n",
    "# # Simple hack to replace \\ with /\n",
    "# train_data.iloc[:, 0] = train_data.iloc[:, 0].apply(lambda s: s.replace('\\\\', '/')) # Needed for filename convention\n",
    "# test_data.iloc[:, 0] = test_data.iloc[:, 0].apply(lambda s: s.replace('\\\\', '/')) # Needed for filename convention\n",
    "\n",
    "train_data = pd.read_csv('train.csv')\n",
    "test_data = pd.read_csv('new_test.csv')\n",
    "train_data.head()"
   ]
  },
  {
   "cell_type": "code",
   "execution_count": 3,
   "metadata": {},
   "outputs": [],
   "source": [
    "# Reads an image from a file, decodes it into a dense tensor, and resizes it\n",
    "# to a fixed shape.\n",
    "def _parse_function(filename):\n",
    "    image_string = tf.io.read_file(filename)\n",
    "    image_decoded = tf.image.decode_jpeg(image_string, channels=3) # Channels needed because some test images are b/w\n",
    "    image_resized = tf.image.resize(image_decoded, [40, 40])\n",
    "#     image_shape = tf.cast(tf.shape(image_decoded), tf.float32)\n",
    "    # 將位置轉換成比例\n",
    "#     label = tf.concat([label[0:5] / image_shape[0], label[5:10] / image_shape[1], label[10:]], axis=0)\n",
    "    return image_resized"
   ]
  },
  {
   "cell_type": "code",
   "execution_count": 132,
   "metadata": {},
   "outputs": [],
   "source": [
    "train_data_x = np.ndarray((len(train_data), 40, 40, 3))\n",
    "train_data_y = np.ndarray((len(train_data), 14))\n",
    "test_data_x = np.ndarray((len(test_data), 40, 40, 3))\n",
    "test_data_y = np.ndarray((len(test_data), 14))"
   ]
  },
  {
   "cell_type": "code",
   "execution_count": 5,
   "metadata": {},
   "outputs": [
    {
     "name": "stdout",
     "output_type": "stream",
     "text": [
      "[0.4289999902248383 0.5910000205039978 0.5049999952316284\n",
      " 0.42500001192092896 0.5630000233650208 0.4350000023841858\n",
      " 0.453000009059906 0.574999988079071 0.6349999904632568 0.6510000228881836\n",
      " 1.0 2.0 2.0 3.0 'lfw_5590/Aaron_Eckhart_0001.jpg']\n"
     ]
    }
   ],
   "source": [
    "for i, row in enumerate(train_data.values):\n",
    "    print(row)\n",
    "    break"
   ]
  },
  {
   "cell_type": "code",
   "execution_count": 6,
   "metadata": {},
   "outputs": [
    {
     "name": "stdout",
     "output_type": "stream",
     "text": [
      "Processed 0 of 2995\n",
      "Processed 2000 of 2995\n"
     ]
    }
   ],
   "source": [
    "# # 讀取路徑後，將讀取的圖片調整大小，test_data_x\n",
    "for i, row in enumerate(test_data.values):\n",
    "    image = _parse_function(row[0])\n",
    "    test_data_x[i] = image\n",
    "    if i%2000 == 0: print('Processed {} of {}'.format(i, len(test_data)))"
   ]
  },
  {
   "cell_type": "code",
   "execution_count": 133,
   "metadata": {},
   "outputs": [
    {
     "name": "stdout",
     "output_type": "stream",
     "text": [
      "Processed 0 of 10000\n",
      "Processed 2000 of 10000\n",
      "Processed 4000 of 10000\n",
      "Processed 6000 of 10000\n",
      "Processed 8000 of 10000\n"
     ]
    }
   ],
   "source": [
    "# 讀取路徑後，將讀取的圖片調整大小，並存入train_data_x, train_data_y\n",
    "for i, row in enumerate(train_data.values):\n",
    "    image = _parse_function(row[14])\n",
    "\n",
    "    train_data_x[i] = image\n",
    "    train_data_y[i] = row[:14]\n",
    "    if i%2000 == 0: print('Processed {} of {}'.format(i, len(train_data)))"
   ]
  },
  {
   "cell_type": "code",
   "execution_count": 95,
   "metadata": {},
   "outputs": [
    {
     "name": "stdout",
     "output_type": "stream",
     "text": [
      "Processed 0 of 2995\n",
      "Processed 2000 of 2995\n"
     ]
    }
   ],
   "source": [
    "for i, row in enumerate(test_data.values):\n",
    "    image = _parse_function(row[14])\n",
    "    test_data_x[i] = image\n",
    "    test_data_y[i] = row[:14]\n",
    "    if i%2000 == 0: print('Processed {} of {}'.format(i, len(test_data)))"
   ]
  },
  {
   "cell_type": "markdown",
   "metadata": {},
   "source": [
    "# ONLY Dense"
   ]
  },
  {
   "cell_type": "code",
   "execution_count": 46,
   "metadata": {},
   "outputs": [],
   "source": [
    "inputs = tf.keras.Input(shape=(40,40,3))\n",
    "flat = tf.keras.layers.Flatten()(inputs)\n",
    "dense1 = tf.keras.layers.Dense(units=1024, activation=\"relu\")(flat)\n",
    "dense1 = tf.keras.layers.Dropout(0.5)(dense1)\n",
    "dense2 = tf.keras.layers.Dense(units=1024, activation=\"relu\")(dense1)\n",
    "dense2 = tf.keras.layers.Dropout(0.5)(dense2)\n",
    "dense3 = tf.keras.layers.Dense(units=256, activation=\"relu\")(dense2)\n",
    "dense3 = tf.keras.layers.Dropout(0.5)(dense3)\n",
    "dense4 = tf.keras.layers.Dense(units=128, activation=\"relu\")(dense3)\n",
    "dense4 = tf.keras.layers.Dense(units=64, activation=\"relu\")(dense4)\n",
    "\n",
    "# predictions_gender = tf.keras.layers.Dense(units=1, activation='sigmoid')(dense4)\n",
    "predictions_smile = tf.keras.layers.Dense(units=1, activation='sigmoid')(dense4)\n",
    "\n",
    "dense_left = tf.keras.layers.Dense(units=64, activation=\"relu\")(dense4)\n",
    "predictions_right_mouth = tf.keras.layers.Dense(units=2)(dense_left)\n",
    "\n",
    "dense_right = tf.keras.layers.Dense(units=64, activation=\"relu\")(dense4)\n",
    "predictions_left_mouth = tf.keras.layers.Dense(units=2)(dense_right)\n",
    "\n",
    "model = tf.keras.Model(inputs=inputs, outputs=[predictions_smile,predictions_left_mouth, predictions_right_mouth])\n",
    "model.compile(optimizer=tf.optimizers.Adam(lr = 0.0001),\n",
    "              loss=[tf.keras.losses.BinaryCrossentropy(),tf.keras.losses.MeanSquaredError(),tf.keras.losses.MeanSquaredError()], metrics = ['mse', 'accuracy'])"
   ]
  },
  {
   "cell_type": "code",
   "execution_count": 31,
   "metadata": {},
   "outputs": [],
   "source": [
    "\n",
    "# inputs = tf.keras.Input(shape=(40,40,3))\n",
    "\n",
    "# # First convolutive layer\n",
    "# conv1 = tf.keras.layers.Conv2D(filters=16, kernel_size=[5, 5], padding=\"same\", activation=tf.nn.relu)(inputs)\n",
    "# pool1 = tf.keras.layers.MaxPool2D(pool_size=[2, 2], strides=2)(conv1)\n",
    "\n",
    "# # Second convolutive layer\n",
    "# conv2 = tf.keras.layers.Conv2D(filters=48, kernel_size=[3, 3], padding=\"same\", activation=tf.nn.relu)(pool1)\n",
    "# pool2 = tf.keras.layers.MaxPool2D(pool_size=[2, 2], strides=2)(conv2)\n",
    "\n",
    "# # Third convolutive layer\n",
    "# conv3 = tf.keras.layers.Conv2D(filters=64, kernel_size=[3, 3], padding=\"same\", activation=tf.nn.relu)(pool2)\n",
    "# pool3 = tf.keras.layers.MaxPool2D(pool_size=[2, 2], strides=2)(conv3)\n",
    "\n",
    "# # Fourth convolutive layer\n",
    "# conv4 = tf.keras.layers.Conv2D(filters=64, kernel_size=[2, 2], padding=\"same\", activation=tf.nn.relu)(pool3)\n",
    "\n",
    "# # Dense Layer\n",
    "# flat = tf.reshape(conv4, [-1, 5 * 5 * 64])\n",
    "# predictions_nose = tf.keras.layers.Dense(units=2)(flat)\n",
    "# predictions_pose = tf.keras.layers.Dense(units=5,activation=tf.nn.softmax)(flat)\n",
    "\n",
    "\n",
    "# model = tf.keras.Model(inputs=inputs, outputs=[predictions_nose, predictions_pose])\n",
    "# model.compile(optimizer=tf.optimizers.Adam(),\n",
    "#               loss=[tf.keras.losses.MeanSquaredError(), tf.keras.losses.categorical_crossentropy], metrics = ['mse', 'accuracy'])"
   ]
  },
  {
   "cell_type": "code",
   "execution_count": 47,
   "metadata": {},
   "outputs": [
    {
     "name": "stdout",
     "output_type": "stream",
     "text": [
      "Model: \"model_4\"\n",
      "__________________________________________________________________________________________________\n",
      "Layer (type)                    Output Shape         Param #     Connected to                     \n",
      "==================================================================================================\n",
      "input_5 (InputLayer)            [(None, 40, 40, 3)]  0                                            \n",
      "__________________________________________________________________________________________________\n",
      "flatten_2 (Flatten)             (None, 4800)         0           input_5[0][0]                    \n",
      "__________________________________________________________________________________________________\n",
      "dense_24 (Dense)                (None, 1024)         4916224     flatten_2[0][0]                  \n",
      "__________________________________________________________________________________________________\n",
      "dropout_6 (Dropout)             (None, 1024)         0           dense_24[0][0]                   \n",
      "__________________________________________________________________________________________________\n",
      "dense_25 (Dense)                (None, 1024)         1049600     dropout_6[0][0]                  \n",
      "__________________________________________________________________________________________________\n",
      "dropout_7 (Dropout)             (None, 1024)         0           dense_25[0][0]                   \n",
      "__________________________________________________________________________________________________\n",
      "dense_26 (Dense)                (None, 256)          262400      dropout_7[0][0]                  \n",
      "__________________________________________________________________________________________________\n",
      "dropout_8 (Dropout)             (None, 256)          0           dense_26[0][0]                   \n",
      "__________________________________________________________________________________________________\n",
      "dense_27 (Dense)                (None, 128)          32896       dropout_8[0][0]                  \n",
      "__________________________________________________________________________________________________\n",
      "dense_28 (Dense)                (None, 64)           8256        dense_27[0][0]                   \n",
      "__________________________________________________________________________________________________\n",
      "dense_32 (Dense)                (None, 64)           4160        dense_28[0][0]                   \n",
      "__________________________________________________________________________________________________\n",
      "dense_30 (Dense)                (None, 64)           4160        dense_28[0][0]                   \n",
      "__________________________________________________________________________________________________\n",
      "dense_29 (Dense)                (None, 1)            65          dense_28[0][0]                   \n",
      "__________________________________________________________________________________________________\n",
      "dense_33 (Dense)                (None, 2)            130         dense_32[0][0]                   \n",
      "__________________________________________________________________________________________________\n",
      "dense_31 (Dense)                (None, 2)            130         dense_30[0][0]                   \n",
      "==================================================================================================\n",
      "Total params: 6,278,021\n",
      "Trainable params: 6,278,021\n",
      "Non-trainable params: 0\n",
      "__________________________________________________________________________________________________\n"
     ]
    }
   ],
   "source": [
    "model.summary()"
   ]
  },
  {
   "cell_type": "code",
   "execution_count": 48,
   "metadata": {},
   "outputs": [],
   "source": [
    "from tensorflow.keras import utils"
   ]
  },
  {
   "cell_type": "code",
   "execution_count": 135,
   "metadata": {},
   "outputs": [],
   "source": [
    "nose_pos = utils.to_categorical(train_data_y[:,-1]-1)"
   ]
  },
  {
   "cell_type": "code",
   "execution_count": 136,
   "metadata": {},
   "outputs": [
    {
     "data": {
      "text/plain": [
       "array([[0., 0., 1., 0., 0.],\n",
       "       [0., 0., 1., 0., 0.],\n",
       "       [0., 0., 1., 0., 0.],\n",
       "       ...,\n",
       "       [0., 0., 0., 0., 1.],\n",
       "       [0., 0., 0., 1., 0.],\n",
       "       [0., 0., 0., 1., 0.]], dtype=float32)"
      ]
     },
     "execution_count": 136,
     "metadata": {},
     "output_type": "execute_result"
    }
   ],
   "source": [
    "nose_pos"
   ]
  },
  {
   "cell_type": "code",
   "execution_count": 137,
   "metadata": {},
   "outputs": [
    {
     "data": {
      "text/plain": [
       "0.4350000023841858"
      ]
     },
     "execution_count": 137,
     "metadata": {},
     "output_type": "execute_result"
    }
   ],
   "source": [
    "train_data_y[:,5][0]"
   ]
  },
  {
   "cell_type": "markdown",
   "metadata": {},
   "source": [
    "# 前處理資料"
   ]
  },
  {
   "cell_type": "code",
   "execution_count": 138,
   "metadata": {},
   "outputs": [],
   "source": [
    "gender = train_data_y[:,11] -1\n",
    "smile = train_data_y[:,12] -1\n",
    "left_mouth = train_data_y[:,3:9:5]\n",
    "right_mouth = train_data_y[:,4:10:5]"
   ]
  },
  {
   "cell_type": "code",
   "execution_count": 139,
   "metadata": {},
   "outputs": [
    {
     "data": {
      "text/plain": [
       "array([[0.56300002, 0.65100002],\n",
       "       [0.55900002, 0.65899998],\n",
       "       [0.59100002, 0.61500001],\n",
       "       ...,\n",
       "       [0.43055555, 0.67500001],\n",
       "       [0.43055555, 0.58125001],\n",
       "       [0.41666666, 0.61250001]])"
      ]
     },
     "execution_count": 139,
     "metadata": {},
     "output_type": "execute_result"
    }
   ],
   "source": [
    "right_mouth"
   ]
  },
  {
   "cell_type": "code",
   "execution_count": 140,
   "metadata": {},
   "outputs": [
    {
     "data": {
      "text/plain": [
       "10000"
      ]
     },
     "execution_count": 140,
     "metadata": {},
     "output_type": "execute_result"
    }
   ],
   "source": [
    "len(train_data_y)"
   ]
  },
  {
   "cell_type": "code",
   "execution_count": 141,
   "metadata": {},
   "outputs": [
    {
     "data": {
      "text/plain": [
       "(10000, 2)"
      ]
     },
     "execution_count": 141,
     "metadata": {},
     "output_type": "execute_result"
    }
   ],
   "source": [
    "right_mouth.shape"
   ]
  },
  {
   "cell_type": "code",
   "execution_count": 52,
   "metadata": {},
   "outputs": [
    {
     "data": {
      "text/plain": [
       "(10000,)"
      ]
     },
     "execution_count": 52,
     "metadata": {},
     "output_type": "execute_result"
    }
   ],
   "source": [
    "gender.shape"
   ]
  },
  {
   "cell_type": "code",
   "execution_count": 53,
   "metadata": {},
   "outputs": [
    {
     "data": {
      "text/plain": [
       "(10000,)"
      ]
     },
     "execution_count": 53,
     "metadata": {},
     "output_type": "execute_result"
    }
   ],
   "source": [
    "smile.shape"
   ]
  },
  {
   "cell_type": "code",
   "execution_count": 54,
   "metadata": {},
   "outputs": [
    {
     "data": {
      "text/plain": [
       "(10000, 5)"
      ]
     },
     "execution_count": 54,
     "metadata": {},
     "output_type": "execute_result"
    }
   ],
   "source": [
    "nose_pos.shape"
   ]
  },
  {
   "cell_type": "code",
   "execution_count": 55,
   "metadata": {},
   "outputs": [
    {
     "data": {
      "text/plain": [
       "(10000, 2)"
      ]
     },
     "execution_count": 55,
     "metadata": {},
     "output_type": "execute_result"
    }
   ],
   "source": [
    "left_mouth.shape"
   ]
  },
  {
   "cell_type": "code",
   "execution_count": 56,
   "metadata": {},
   "outputs": [
    {
     "data": {
      "text/plain": [
       "(10000, 2)"
      ]
     },
     "execution_count": 56,
     "metadata": {},
     "output_type": "execute_result"
    }
   ],
   "source": [
    "right_mouth.shape"
   ]
  },
  {
   "cell_type": "code",
   "execution_count": 57,
   "metadata": {},
   "outputs": [],
   "source": [
    "EPOCHS = 10"
   ]
  },
  {
   "cell_type": "code",
   "execution_count": 81,
   "metadata": {},
   "outputs": [
    {
     "name": "stdout",
     "output_type": "stream",
     "text": [
      "Train on 10000 samples\n",
      "Epoch 1/50\n",
      "10000/10000 [==============================] - 8s 803us/sample - loss: 0.4218 - dense_29_loss: 0.4140 - dense_33_loss: 0.0031 - dense_31_loss: 0.0044 - dense_29_mse: 0.1232 - dense_29_accuracy: 0.8592 - dense_33_mse: 0.0031 - dense_33_accuracy: 1.0000 - dense_31_mse: 0.0043 - dense_31_accuracy: 0.7841\n",
      "Epoch 2/50\n",
      "10000/10000 [==============================] - 8s 828us/sample - loss: 0.4205 - dense_29_loss: 0.4106 - dense_33_loss: 0.0031 - dense_31_loss: 0.0044 - dense_29_mse: 0.1229 - dense_29_accuracy: 0.8592 - dense_33_mse: 0.0031 - dense_33_accuracy: 1.0000 - dense_31_mse: 0.0044 - dense_31_accuracy: 0.7930\n",
      "Epoch 3/50\n",
      "10000/10000 [==============================] - 8s 833us/sample - loss: 0.4198 - dense_29_loss: 0.4100 - dense_33_loss: 0.0031 - dense_31_loss: 0.0044 - dense_29_mse: 0.1226 - dense_29_accuracy: 0.8592 - dense_33_mse: 0.0031 - dense_33_accuracy: 1.0000 - dense_31_mse: 0.0044 - dense_31_accuracy: 0.7868\n",
      "Epoch 4/50\n",
      "10000/10000 [==============================] - 8s 817us/sample - loss: 0.4188 - dense_29_loss: 0.4100 - dense_33_loss: 0.0030 - dense_31_loss: 0.0044 - dense_29_mse: 0.1224 - dense_29_accuracy: 0.8592 - dense_33_mse: 0.0030 - dense_33_accuracy: 1.0000 - dense_31_mse: 0.0044 - dense_31_accuracy: 0.7844\n",
      "Epoch 5/50\n",
      "10000/10000 [==============================] - 8s 796us/sample - loss: 0.4181 - dense_29_loss: 0.4093 - dense_33_loss: 0.0031 - dense_31_loss: 0.0044 - dense_29_mse: 0.1222 - dense_29_accuracy: 0.8592 - dense_33_mse: 0.0031 - dense_33_accuracy: 1.0000 - dense_31_mse: 0.0044 - dense_31_accuracy: 0.7832\n",
      "Epoch 6/50\n",
      "10000/10000 [==============================] - 8s 841us/sample - loss: 0.4178 - dense_29_loss: 0.4101 - dense_33_loss: 0.0030 - dense_31_loss: 0.0044 - dense_29_mse: 0.1221 - dense_29_accuracy: 0.8592 - dense_33_mse: 0.0030 - dense_33_accuracy: 1.0000 - dense_31_mse: 0.0044 - dense_31_accuracy: 0.7811\n",
      "Epoch 7/50\n",
      "10000/10000 [==============================] - 8s 776us/sample - loss: 0.4169 - dense_29_loss: 0.4093 - dense_33_loss: 0.0030 - dense_31_loss: 0.0044 - dense_29_mse: 0.1218 - dense_29_accuracy: 0.8592 - dense_33_mse: 0.0030 - dense_33_accuracy: 1.0000 - dense_31_mse: 0.0044 - dense_31_accuracy: 0.7854\n",
      "Epoch 8/50\n",
      "10000/10000 [==============================] - 8s 811us/sample - loss: 0.4160 - dense_29_loss: 0.4094 - dense_33_loss: 0.0030 - dense_31_loss: 0.0044 - dense_29_mse: 0.1215 - dense_29_accuracy: 0.8592 - dense_33_mse: 0.0030 - dense_33_accuracy: 1.0000 - dense_31_mse: 0.0045 - dense_31_accuracy: 0.7797\n",
      "Epoch 9/50\n",
      "10000/10000 [==============================] - 8s 808us/sample - loss: 0.4161 - dense_29_loss: 0.4084 - dense_33_loss: 0.0030 - dense_31_loss: 0.0044 - dense_29_mse: 0.1216 - dense_29_accuracy: 0.8592 - dense_33_mse: 0.0030 - dense_33_accuracy: 1.0000 - dense_31_mse: 0.0044 - dense_31_accuracy: 0.7880\n",
      "Epoch 10/50\n",
      "10000/10000 [==============================] - 8s 810us/sample - loss: 0.4161 - dense_29_loss: 0.4084 - dense_33_loss: 0.0030 - dense_31_loss: 0.0044 - dense_29_mse: 0.1216 - dense_29_accuracy: 0.8592 - dense_33_mse: 0.0030 - dense_33_accuracy: 1.0000 - dense_31_mse: 0.0044 - dense_31_accuracy: 0.7855\n",
      "Epoch 11/50\n",
      " 7936/10000 [======================>.......] - ETA: 1s - loss: 0.4158 - dense_29_loss: 0.4083 - dense_33_loss: 0.0030 - dense_31_loss: 0.0045 - dense_29_mse: 0.1216 - dense_29_accuracy: 0.8589 - dense_33_mse: 0.0030 - dense_33_accuracy: 1.0000 - dense_31_mse: 0.0045 - dense_31_accuracy: 0.7909"
     ]
    },
    {
     "ename": "KeyboardInterrupt",
     "evalue": "",
     "output_type": "error",
     "traceback": [
      "\u001b[1;31m---------------------------------------------------------------------------\u001b[0m",
      "\u001b[1;31mKeyboardInterrupt\u001b[0m                         Traceback (most recent call last)",
      "\u001b[1;32m<ipython-input-81-1b97b93ac814>\u001b[0m in \u001b[0;36m<module>\u001b[1;34m\u001b[0m\n\u001b[1;32m----> 1\u001b[1;33m \u001b[0mmodel\u001b[0m\u001b[1;33m.\u001b[0m\u001b[0mfit\u001b[0m\u001b[1;33m(\u001b[0m\u001b[0mtrain_data_x\u001b[0m\u001b[1;33m,\u001b[0m\u001b[1;33m[\u001b[0m\u001b[0msmile\u001b[0m\u001b[1;33m,\u001b[0m \u001b[0mleft_mouth\u001b[0m\u001b[1;33m,\u001b[0m\u001b[0mright_mouth\u001b[0m\u001b[1;33m]\u001b[0m\u001b[1;33m,\u001b[0m\u001b[0mepochs\u001b[0m\u001b[1;33m=\u001b[0m\u001b[0mEPOCHS\u001b[0m\u001b[1;33m,\u001b[0m \u001b[0mbatch_size\u001b[0m\u001b[1;33m=\u001b[0m\u001b[1;36m128\u001b[0m\u001b[1;33m)\u001b[0m\u001b[1;33m\u001b[0m\u001b[1;33m\u001b[0m\u001b[0m\n\u001b[0m",
      "\u001b[1;32m~\\AppData\\Roaming\\Python\\Python37\\site-packages\\tensorflow_core\\python\\keras\\engine\\training.py\u001b[0m in \u001b[0;36mfit\u001b[1;34m(self, x, y, batch_size, epochs, verbose, callbacks, validation_split, validation_data, shuffle, class_weight, sample_weight, initial_epoch, steps_per_epoch, validation_steps, validation_freq, max_queue_size, workers, use_multiprocessing, **kwargs)\u001b[0m\n\u001b[0;32m    817\u001b[0m         \u001b[0mmax_queue_size\u001b[0m\u001b[1;33m=\u001b[0m\u001b[0mmax_queue_size\u001b[0m\u001b[1;33m,\u001b[0m\u001b[1;33m\u001b[0m\u001b[1;33m\u001b[0m\u001b[0m\n\u001b[0;32m    818\u001b[0m         \u001b[0mworkers\u001b[0m\u001b[1;33m=\u001b[0m\u001b[0mworkers\u001b[0m\u001b[1;33m,\u001b[0m\u001b[1;33m\u001b[0m\u001b[1;33m\u001b[0m\u001b[0m\n\u001b[1;32m--> 819\u001b[1;33m         use_multiprocessing=use_multiprocessing)\n\u001b[0m\u001b[0;32m    820\u001b[0m \u001b[1;33m\u001b[0m\u001b[0m\n\u001b[0;32m    821\u001b[0m   def evaluate(self,\n",
      "\u001b[1;32m~\\AppData\\Roaming\\Python\\Python37\\site-packages\\tensorflow_core\\python\\keras\\engine\\training_v2.py\u001b[0m in \u001b[0;36mfit\u001b[1;34m(self, model, x, y, batch_size, epochs, verbose, callbacks, validation_split, validation_data, shuffle, class_weight, sample_weight, initial_epoch, steps_per_epoch, validation_steps, validation_freq, max_queue_size, workers, use_multiprocessing, **kwargs)\u001b[0m\n\u001b[0;32m    340\u001b[0m                 \u001b[0mmode\u001b[0m\u001b[1;33m=\u001b[0m\u001b[0mModeKeys\u001b[0m\u001b[1;33m.\u001b[0m\u001b[0mTRAIN\u001b[0m\u001b[1;33m,\u001b[0m\u001b[1;33m\u001b[0m\u001b[1;33m\u001b[0m\u001b[0m\n\u001b[0;32m    341\u001b[0m                 \u001b[0mtraining_context\u001b[0m\u001b[1;33m=\u001b[0m\u001b[0mtraining_context\u001b[0m\u001b[1;33m,\u001b[0m\u001b[1;33m\u001b[0m\u001b[1;33m\u001b[0m\u001b[0m\n\u001b[1;32m--> 342\u001b[1;33m                 total_epochs=epochs)\n\u001b[0m\u001b[0;32m    343\u001b[0m             \u001b[0mcbks\u001b[0m\u001b[1;33m.\u001b[0m\u001b[0mmake_logs\u001b[0m\u001b[1;33m(\u001b[0m\u001b[0mmodel\u001b[0m\u001b[1;33m,\u001b[0m \u001b[0mepoch_logs\u001b[0m\u001b[1;33m,\u001b[0m \u001b[0mtraining_result\u001b[0m\u001b[1;33m,\u001b[0m \u001b[0mModeKeys\u001b[0m\u001b[1;33m.\u001b[0m\u001b[0mTRAIN\u001b[0m\u001b[1;33m)\u001b[0m\u001b[1;33m\u001b[0m\u001b[1;33m\u001b[0m\u001b[0m\n\u001b[0;32m    344\u001b[0m \u001b[1;33m\u001b[0m\u001b[0m\n",
      "\u001b[1;32m~\\AppData\\Roaming\\Python\\Python37\\site-packages\\tensorflow_core\\python\\keras\\engine\\training_v2.py\u001b[0m in \u001b[0;36mrun_one_epoch\u001b[1;34m(model, iterator, execution_function, dataset_size, batch_size, strategy, steps_per_epoch, num_samples, mode, training_context, total_epochs)\u001b[0m\n\u001b[0;32m    126\u001b[0m         step=step, mode=mode, size=current_batch_size) as batch_logs:\n\u001b[0;32m    127\u001b[0m       \u001b[1;32mtry\u001b[0m\u001b[1;33m:\u001b[0m\u001b[1;33m\u001b[0m\u001b[1;33m\u001b[0m\u001b[0m\n\u001b[1;32m--> 128\u001b[1;33m         \u001b[0mbatch_outs\u001b[0m \u001b[1;33m=\u001b[0m \u001b[0mexecution_function\u001b[0m\u001b[1;33m(\u001b[0m\u001b[0miterator\u001b[0m\u001b[1;33m)\u001b[0m\u001b[1;33m\u001b[0m\u001b[1;33m\u001b[0m\u001b[0m\n\u001b[0m\u001b[0;32m    129\u001b[0m       \u001b[1;32mexcept\u001b[0m \u001b[1;33m(\u001b[0m\u001b[0mStopIteration\u001b[0m\u001b[1;33m,\u001b[0m \u001b[0merrors\u001b[0m\u001b[1;33m.\u001b[0m\u001b[0mOutOfRangeError\u001b[0m\u001b[1;33m)\u001b[0m\u001b[1;33m:\u001b[0m\u001b[1;33m\u001b[0m\u001b[1;33m\u001b[0m\u001b[0m\n\u001b[0;32m    130\u001b[0m         \u001b[1;31m# TODO(kaftan): File bug about tf function and errors.OutOfRangeError?\u001b[0m\u001b[1;33m\u001b[0m\u001b[1;33m\u001b[0m\u001b[1;33m\u001b[0m\u001b[0m\n",
      "\u001b[1;32m~\\AppData\\Roaming\\Python\\Python37\\site-packages\\tensorflow_core\\python\\keras\\engine\\training_v2_utils.py\u001b[0m in \u001b[0;36mexecution_function\u001b[1;34m(input_fn)\u001b[0m\n\u001b[0;32m     96\u001b[0m     \u001b[1;31m# `numpy` translates Tensors to values in Eager mode.\u001b[0m\u001b[1;33m\u001b[0m\u001b[1;33m\u001b[0m\u001b[1;33m\u001b[0m\u001b[0m\n\u001b[0;32m     97\u001b[0m     return nest.map_structure(_non_none_constant_value,\n\u001b[1;32m---> 98\u001b[1;33m                               distributed_function(input_fn))\n\u001b[0m\u001b[0;32m     99\u001b[0m \u001b[1;33m\u001b[0m\u001b[0m\n\u001b[0;32m    100\u001b[0m   \u001b[1;32mreturn\u001b[0m \u001b[0mexecution_function\u001b[0m\u001b[1;33m\u001b[0m\u001b[1;33m\u001b[0m\u001b[0m\n",
      "\u001b[1;32m~\\AppData\\Roaming\\Python\\Python37\\site-packages\\tensorflow_core\\python\\eager\\def_function.py\u001b[0m in \u001b[0;36m__call__\u001b[1;34m(self, *args, **kwds)\u001b[0m\n\u001b[0;32m    566\u001b[0m         \u001b[0mxla_context\u001b[0m\u001b[1;33m.\u001b[0m\u001b[0mExit\u001b[0m\u001b[1;33m(\u001b[0m\u001b[1;33m)\u001b[0m\u001b[1;33m\u001b[0m\u001b[1;33m\u001b[0m\u001b[0m\n\u001b[0;32m    567\u001b[0m     \u001b[1;32melse\u001b[0m\u001b[1;33m:\u001b[0m\u001b[1;33m\u001b[0m\u001b[1;33m\u001b[0m\u001b[0m\n\u001b[1;32m--> 568\u001b[1;33m       \u001b[0mresult\u001b[0m \u001b[1;33m=\u001b[0m \u001b[0mself\u001b[0m\u001b[1;33m.\u001b[0m\u001b[0m_call\u001b[0m\u001b[1;33m(\u001b[0m\u001b[1;33m*\u001b[0m\u001b[0margs\u001b[0m\u001b[1;33m,\u001b[0m \u001b[1;33m**\u001b[0m\u001b[0mkwds\u001b[0m\u001b[1;33m)\u001b[0m\u001b[1;33m\u001b[0m\u001b[1;33m\u001b[0m\u001b[0m\n\u001b[0m\u001b[0;32m    569\u001b[0m \u001b[1;33m\u001b[0m\u001b[0m\n\u001b[0;32m    570\u001b[0m     \u001b[1;32mif\u001b[0m \u001b[0mtracing_count\u001b[0m \u001b[1;33m==\u001b[0m \u001b[0mself\u001b[0m\u001b[1;33m.\u001b[0m\u001b[0m_get_tracing_count\u001b[0m\u001b[1;33m(\u001b[0m\u001b[1;33m)\u001b[0m\u001b[1;33m:\u001b[0m\u001b[1;33m\u001b[0m\u001b[1;33m\u001b[0m\u001b[0m\n",
      "\u001b[1;32m~\\AppData\\Roaming\\Python\\Python37\\site-packages\\tensorflow_core\\python\\eager\\def_function.py\u001b[0m in \u001b[0;36m_call\u001b[1;34m(self, *args, **kwds)\u001b[0m\n\u001b[0;32m    597\u001b[0m       \u001b[1;31m# In this case we have created variables on the first call, so we run the\u001b[0m\u001b[1;33m\u001b[0m\u001b[1;33m\u001b[0m\u001b[1;33m\u001b[0m\u001b[0m\n\u001b[0;32m    598\u001b[0m       \u001b[1;31m# defunned version which is guaranteed to never create variables.\u001b[0m\u001b[1;33m\u001b[0m\u001b[1;33m\u001b[0m\u001b[1;33m\u001b[0m\u001b[0m\n\u001b[1;32m--> 599\u001b[1;33m       \u001b[1;32mreturn\u001b[0m \u001b[0mself\u001b[0m\u001b[1;33m.\u001b[0m\u001b[0m_stateless_fn\u001b[0m\u001b[1;33m(\u001b[0m\u001b[1;33m*\u001b[0m\u001b[0margs\u001b[0m\u001b[1;33m,\u001b[0m \u001b[1;33m**\u001b[0m\u001b[0mkwds\u001b[0m\u001b[1;33m)\u001b[0m  \u001b[1;31m# pylint: disable=not-callable\u001b[0m\u001b[1;33m\u001b[0m\u001b[1;33m\u001b[0m\u001b[0m\n\u001b[0m\u001b[0;32m    600\u001b[0m     \u001b[1;32melif\u001b[0m \u001b[0mself\u001b[0m\u001b[1;33m.\u001b[0m\u001b[0m_stateful_fn\u001b[0m \u001b[1;32mis\u001b[0m \u001b[1;32mnot\u001b[0m \u001b[1;32mNone\u001b[0m\u001b[1;33m:\u001b[0m\u001b[1;33m\u001b[0m\u001b[1;33m\u001b[0m\u001b[0m\n\u001b[0;32m    601\u001b[0m       \u001b[1;31m# Release the lock early so that multiple threads can perform the call\u001b[0m\u001b[1;33m\u001b[0m\u001b[1;33m\u001b[0m\u001b[1;33m\u001b[0m\u001b[0m\n",
      "\u001b[1;32m~\\AppData\\Roaming\\Python\\Python37\\site-packages\\tensorflow_core\\python\\eager\\function.py\u001b[0m in \u001b[0;36m__call__\u001b[1;34m(self, *args, **kwargs)\u001b[0m\n\u001b[0;32m   2361\u001b[0m     \u001b[1;32mwith\u001b[0m \u001b[0mself\u001b[0m\u001b[1;33m.\u001b[0m\u001b[0m_lock\u001b[0m\u001b[1;33m:\u001b[0m\u001b[1;33m\u001b[0m\u001b[1;33m\u001b[0m\u001b[0m\n\u001b[0;32m   2362\u001b[0m       \u001b[0mgraph_function\u001b[0m\u001b[1;33m,\u001b[0m \u001b[0margs\u001b[0m\u001b[1;33m,\u001b[0m \u001b[0mkwargs\u001b[0m \u001b[1;33m=\u001b[0m \u001b[0mself\u001b[0m\u001b[1;33m.\u001b[0m\u001b[0m_maybe_define_function\u001b[0m\u001b[1;33m(\u001b[0m\u001b[0margs\u001b[0m\u001b[1;33m,\u001b[0m \u001b[0mkwargs\u001b[0m\u001b[1;33m)\u001b[0m\u001b[1;33m\u001b[0m\u001b[1;33m\u001b[0m\u001b[0m\n\u001b[1;32m-> 2363\u001b[1;33m     \u001b[1;32mreturn\u001b[0m \u001b[0mgraph_function\u001b[0m\u001b[1;33m.\u001b[0m\u001b[0m_filtered_call\u001b[0m\u001b[1;33m(\u001b[0m\u001b[0margs\u001b[0m\u001b[1;33m,\u001b[0m \u001b[0mkwargs\u001b[0m\u001b[1;33m)\u001b[0m  \u001b[1;31m# pylint: disable=protected-access\u001b[0m\u001b[1;33m\u001b[0m\u001b[1;33m\u001b[0m\u001b[0m\n\u001b[0m\u001b[0;32m   2364\u001b[0m \u001b[1;33m\u001b[0m\u001b[0m\n\u001b[0;32m   2365\u001b[0m   \u001b[1;33m@\u001b[0m\u001b[0mproperty\u001b[0m\u001b[1;33m\u001b[0m\u001b[1;33m\u001b[0m\u001b[0m\n",
      "\u001b[1;32m~\\AppData\\Roaming\\Python\\Python37\\site-packages\\tensorflow_core\\python\\eager\\function.py\u001b[0m in \u001b[0;36m_filtered_call\u001b[1;34m(self, args, kwargs)\u001b[0m\n\u001b[0;32m   1609\u001b[0m          if isinstance(t, (ops.Tensor,\n\u001b[0;32m   1610\u001b[0m                            resource_variable_ops.BaseResourceVariable))),\n\u001b[1;32m-> 1611\u001b[1;33m         self.captured_inputs)\n\u001b[0m\u001b[0;32m   1612\u001b[0m \u001b[1;33m\u001b[0m\u001b[0m\n\u001b[0;32m   1613\u001b[0m   \u001b[1;32mdef\u001b[0m \u001b[0m_call_flat\u001b[0m\u001b[1;33m(\u001b[0m\u001b[0mself\u001b[0m\u001b[1;33m,\u001b[0m \u001b[0margs\u001b[0m\u001b[1;33m,\u001b[0m \u001b[0mcaptured_inputs\u001b[0m\u001b[1;33m,\u001b[0m \u001b[0mcancellation_manager\u001b[0m\u001b[1;33m=\u001b[0m\u001b[1;32mNone\u001b[0m\u001b[1;33m)\u001b[0m\u001b[1;33m:\u001b[0m\u001b[1;33m\u001b[0m\u001b[1;33m\u001b[0m\u001b[0m\n",
      "\u001b[1;32m~\\AppData\\Roaming\\Python\\Python37\\site-packages\\tensorflow_core\\python\\eager\\function.py\u001b[0m in \u001b[0;36m_call_flat\u001b[1;34m(self, args, captured_inputs, cancellation_manager)\u001b[0m\n\u001b[0;32m   1690\u001b[0m       \u001b[1;31m# No tape is watching; skip to running the function.\u001b[0m\u001b[1;33m\u001b[0m\u001b[1;33m\u001b[0m\u001b[1;33m\u001b[0m\u001b[0m\n\u001b[0;32m   1691\u001b[0m       return self._build_call_outputs(self._inference_function.call(\n\u001b[1;32m-> 1692\u001b[1;33m           ctx, args, cancellation_manager=cancellation_manager))\n\u001b[0m\u001b[0;32m   1693\u001b[0m     forward_backward = self._select_forward_and_backward_functions(\n\u001b[0;32m   1694\u001b[0m         \u001b[0margs\u001b[0m\u001b[1;33m,\u001b[0m\u001b[1;33m\u001b[0m\u001b[1;33m\u001b[0m\u001b[0m\n",
      "\u001b[1;32m~\\AppData\\Roaming\\Python\\Python37\\site-packages\\tensorflow_core\\python\\eager\\function.py\u001b[0m in \u001b[0;36mcall\u001b[1;34m(self, ctx, args, cancellation_manager)\u001b[0m\n\u001b[0;32m    543\u001b[0m               \u001b[0minputs\u001b[0m\u001b[1;33m=\u001b[0m\u001b[0margs\u001b[0m\u001b[1;33m,\u001b[0m\u001b[1;33m\u001b[0m\u001b[1;33m\u001b[0m\u001b[0m\n\u001b[0;32m    544\u001b[0m               \u001b[0mattrs\u001b[0m\u001b[1;33m=\u001b[0m\u001b[1;33m(\u001b[0m\u001b[1;34m\"executor_type\"\u001b[0m\u001b[1;33m,\u001b[0m \u001b[0mexecutor_type\u001b[0m\u001b[1;33m,\u001b[0m \u001b[1;34m\"config_proto\"\u001b[0m\u001b[1;33m,\u001b[0m \u001b[0mconfig\u001b[0m\u001b[1;33m)\u001b[0m\u001b[1;33m,\u001b[0m\u001b[1;33m\u001b[0m\u001b[1;33m\u001b[0m\u001b[0m\n\u001b[1;32m--> 545\u001b[1;33m               ctx=ctx)\n\u001b[0m\u001b[0;32m    546\u001b[0m         \u001b[1;32melse\u001b[0m\u001b[1;33m:\u001b[0m\u001b[1;33m\u001b[0m\u001b[1;33m\u001b[0m\u001b[0m\n\u001b[0;32m    547\u001b[0m           outputs = execute.execute_with_cancellation(\n",
      "\u001b[1;32m~\\AppData\\Roaming\\Python\\Python37\\site-packages\\tensorflow_core\\python\\eager\\execute.py\u001b[0m in \u001b[0;36mquick_execute\u001b[1;34m(op_name, num_outputs, inputs, attrs, ctx, name)\u001b[0m\n\u001b[0;32m     59\u001b[0m     tensors = pywrap_tensorflow.TFE_Py_Execute(ctx._handle, device_name,\n\u001b[0;32m     60\u001b[0m                                                \u001b[0mop_name\u001b[0m\u001b[1;33m,\u001b[0m \u001b[0minputs\u001b[0m\u001b[1;33m,\u001b[0m \u001b[0mattrs\u001b[0m\u001b[1;33m,\u001b[0m\u001b[1;33m\u001b[0m\u001b[1;33m\u001b[0m\u001b[0m\n\u001b[1;32m---> 61\u001b[1;33m                                                num_outputs)\n\u001b[0m\u001b[0;32m     62\u001b[0m   \u001b[1;32mexcept\u001b[0m \u001b[0mcore\u001b[0m\u001b[1;33m.\u001b[0m\u001b[0m_NotOkStatusException\u001b[0m \u001b[1;32mas\u001b[0m \u001b[0me\u001b[0m\u001b[1;33m:\u001b[0m\u001b[1;33m\u001b[0m\u001b[1;33m\u001b[0m\u001b[0m\n\u001b[0;32m     63\u001b[0m     \u001b[1;32mif\u001b[0m \u001b[0mname\u001b[0m \u001b[1;32mis\u001b[0m \u001b[1;32mnot\u001b[0m \u001b[1;32mNone\u001b[0m\u001b[1;33m:\u001b[0m\u001b[1;33m\u001b[0m\u001b[1;33m\u001b[0m\u001b[0m\n",
      "\u001b[1;31mKeyboardInterrupt\u001b[0m: "
     ]
    }
   ],
   "source": [
    "model.fit(train_data_x,[smile, left_mouth,right_mouth],epochs=EPOCHS, batch_size=128)"
   ]
  },
  {
   "cell_type": "markdown",
   "metadata": {},
   "source": [
    "# 前處理測試資料"
   ]
  },
  {
   "cell_type": "code",
   "execution_count": 82,
   "metadata": {},
   "outputs": [],
   "source": [
    "# nose_pos_test = utils.to_categorical(test_data_y[:,-1]-1)\n",
    "# gender_test = test_data_y[:,11] -1\n",
    "\n",
    "smile_test = test_data_y[:,12] -1\n",
    "left_mouth_test = test_data_y[:,3:9:5]\n",
    "right_mouth_test = test_data_y[:,4:10:5]"
   ]
  },
  {
   "cell_type": "code",
   "execution_count": 83,
   "metadata": {},
   "outputs": [
    {
     "name": "stdout",
     "output_type": "stream",
     "text": [
      "2995/2995 [==============================] - 2s 573us/sample - loss: 5.4698 - dense_29_loss: 0.5343 - dense_33_loss: 2.5422 - dense_31_loss: 2.3876 - dense_29_mse: 0.9371 - dense_29_accuracy: 0.4260 - dense_33_mse: 2.5520 - dense_33_accuracy: 0.1846 - dense_31_mse: 2.3965 - dense_31_accuracy: 0.2080\n"
     ]
    }
   ],
   "source": [
    "loss = model.evaluate(x=test_data_x, y=[smile_test,left_mouth_test,right_mouth_test])"
   ]
  },
  {
   "cell_type": "code",
   "execution_count": 84,
   "metadata": {},
   "outputs": [],
   "source": [
    "result = model.predict(test_data_x)"
   ]
  },
  {
   "cell_type": "code",
   "execution_count": 85,
   "metadata": {},
   "outputs": [],
   "source": [
    "# Result 包含三個輸出， result[0] 是是否微笑，result[1] 是左嘴角XY座標，result[0] 是右嘴角XY座標"
   ]
  },
  {
   "cell_type": "code",
   "execution_count": 86,
   "metadata": {},
   "outputs": [
    {
     "data": {
      "text/plain": [
       "array([[0.4155085 , 0.6423249 ],\n",
       "       [0.4155085 , 0.6423249 ],\n",
       "       [0.37326035, 0.61914885],\n",
       "       ...,\n",
       "       [0.4155085 , 0.6423249 ],\n",
       "       [0.4155085 , 0.6423249 ],\n",
       "       [0.41550848, 0.6423249 ]], dtype=float32)"
      ]
     },
     "execution_count": 86,
     "metadata": {},
     "output_type": "execute_result"
    }
   ],
   "source": [
    "result[1]"
   ]
  },
  {
   "cell_type": "code",
   "execution_count": 87,
   "metadata": {},
   "outputs": [
    {
     "data": {
      "text/plain": [
       "array([[0.5607871 , 0.6317272 ],\n",
       "       [0.5607871 , 0.6317272 ],\n",
       "       [0.52299464, 0.5544439 ],\n",
       "       ...,\n",
       "       [0.5607871 , 0.6317272 ],\n",
       "       [0.5607871 , 0.6317272 ],\n",
       "       [0.56078714, 0.6317271 ]], dtype=float32)"
      ]
     },
     "execution_count": 87,
     "metadata": {},
     "output_type": "execute_result"
    }
   ],
   "source": [
    "result[2]"
   ]
  },
  {
   "cell_type": "code",
   "execution_count": 94,
   "metadata": {},
   "outputs": [
    {
     "data": {
      "text/plain": [
       "array([[1., 2., 1., 1., 1., 1., 1., 1., 1., 1., 1., 1., 1., 1.],\n",
       "       [1., 1., 1., 1., 1., 1., 1., 1., 1., 1., 1., 1., 1., 1.]])"
      ]
     },
     "execution_count": 94,
     "metadata": {},
     "output_type": "execute_result"
    }
   ],
   "source": [
    "test_data_y[2:4,:]"
   ]
  },
  {
   "cell_type": "code",
   "execution_count": 96,
   "metadata": {},
   "outputs": [
    {
     "data": {
      "image/png": "[encoded data removed]",
      "text/plain": [
       "<Figure size 432x288 with 1 Axes>"
      ]
     },
     "metadata": {
      "needs_background": "light"
     },
     "output_type": "display_data"
    }
   ],
   "source": [
    "# Evaluate a single prediction\n",
    "for label,row, predict_smile, predict_left_mouth, predict_right_mouth in zip(test_data_y[2:4,:],test_data_x[2:4,:], result[0][2:4,:], result[1][2:4,:], result[2][2:4,:]):\n",
    "#     gender = np.where(predict_gender>0.5, 1, 0)\n",
    "\n",
    "    _smile = np.where(predict_smile>0.5, 1, 0)\n",
    "    plt.imshow(row / 255)\n",
    "    plt.scatter(predict_left_mouth[0] * 40, predict_left_mouth[1] * 40, 500, marker='x', color='red', linewidth=5)\n",
    "    plt.scatter(predict_right_mouth[0] * 40, predict_right_mouth[1] * 40, 500, marker='x', color='red', linewidth=5)\n",
    "    plt.scatter(label[3] * 40, label[8] * 40, 500, marker='x', color='blue', linewidth=5)\n",
    "    plt.scatter(label[4] * 40, label[9] * 40, 500, marker='x', color='blue', linewidth=5)\n",
    "#     predictions = np.argmax(predict_pose)\n",
    "    font = {'family': 'serif',\n",
    "    'color':  'white',\n",
    "    'weight': 'bold',\n",
    "    'size': 16,\n",
    "    }\n",
    "#     plt.text(3, 3, 'Predicted pose: {}'.format(predictions),fontdict= font )\n",
    "    plt.text(3, 7, 'Predicted smile: {} '.format(_smile),fontdict= font )\n",
    "#     plt.text(3, 11, 'Predicted gender: {}'.format(gender),fontdict= font )\n",
    "    break"
   ]
  },
  {
   "cell_type": "code",
   "execution_count": 97,
   "metadata": {},
   "outputs": [
    {
     "data": {
      "image/png": "[encoded data removed]",
      "text/plain": [
       "<Figure size 432x288 with 1 Axes>"
      ]
     },
     "metadata": {
      "needs_background": "light"
     },
     "output_type": "display_data"
    }
   ],
   "source": [
    "# Evaluate a single prediction\n",
    "for label,row, predict_smile, predict_left_mouth, predict_right_mouth in zip(test_data_y[2:4,:],test_data_x[2:4,:], result[0][2:4,:], result[1][2:4,:], result[2][2:4,:]):\n",
    "#     gender = np.where(predict_gender>0.5, 1, 0)\n",
    "\n",
    "    _smile = np.where(predict_smile>0.5, 1, 0)\n",
    "    plt.imshow(row / 255)\n",
    "    plt.scatter(predict_left_mouth[0] * 40, predict_left_mouth[1] * 40, 500, marker='x', color='red', linewidth=5)\n",
    "    plt.scatter(predict_right_mouth[0] * 40, predict_right_mouth[1] * 40, 500, marker='x', color='red', linewidth=5)\n",
    "    plt.scatter(label[3] * 40, label[8] * 40, 500, marker='x', color='blue', linewidth=5)\n",
    "    plt.scatter(label[4] * 40, label[9] * 40, 500, marker='x', color='blue', linewidth=5)\n",
    "#     predictions = np.argmax(predict_pose)\n",
    "    font = {'family': 'serif',\n",
    "    'color':  'white',\n",
    "    'weight': 'bold',\n",
    "    'size': 16,\n",
    "    }\n",
    "#     plt.text(3, 3, 'Predicted pose: {}'.format(predictions),fontdict= font )\n",
    "    plt.text(3, 7, 'Predicted smile: {} '.format(_smile),fontdict= font )\n",
    "#     plt.text(3, 11, 'Predicted gender: {}'.format(gender),fontdict= font )\n",
    "    break"
   ]
  },
  {
   "cell_type": "code",
   "execution_count": null,
   "metadata": {},
   "outputs": [],
   "source": []
  },
  {
   "cell_type": "code",
   "execution_count": null,
   "metadata": {},
   "outputs": [],
   "source": []
  }
 ],
 "metadata": {
  "kernelspec": {
   "display_name": "Python 3.7.3 64-bit",
   "language": "python",
   "name": "python37364bit7b58821a064a4bc4bdd064f222b33e8c"
  },
  "language_info": {
   "codemirror_mode": {
    "name": "ipython",
    "version": 3
   },
   "file_extension": ".py",
   "mimetype": "text/x-python",
   "name": "python",
   "nbconvert_exporter": "python",
   "pygments_lexer": "ipython3",
   "version": "3.7.3"
  }
 },
 "nbformat": 4,
 "nbformat_minor": 4
}
