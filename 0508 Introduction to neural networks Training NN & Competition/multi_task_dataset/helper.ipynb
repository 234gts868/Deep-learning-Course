{
 "cells": [
  {
   "cell_type": "code",
   "execution_count": 13,
   "metadata": {},
   "outputs": [],
   "source": [
    "import pandas as pd\n",
    "import numpy as np\n",
    "import tensorflow as tf\n",
    "import matplotlib.pyplot as plt\n",
    "from tensorflow.keras import utils"
   ]
  },
  {
   "cell_type": "markdown",
   "metadata": {},
   "source": [
    "# 讀取訓練資料與測試資料"
   ]
  },
  {
   "cell_type": "code",
   "execution_count": 2,
   "metadata": {},
   "outputs": [],
   "source": [
    "train_data = pd.read_csv('train.csv')\n",
    "test_data = pd.read_csv('test.csv')"
   ]
  },
  {
   "cell_type": "code",
   "execution_count": 3,
   "metadata": {},
   "outputs": [
    {
     "data": {
      "text/html": [
       "<div>\n",
       "<style scoped>\n",
       "    .dataframe tbody tr th:only-of-type {\n",
       "        vertical-align: middle;\n",
       "    }\n",
       "\n",
       "    .dataframe tbody tr th {\n",
       "        vertical-align: top;\n",
       "    }\n",
       "\n",
       "    .dataframe thead th {\n",
       "        text-align: right;\n",
       "    }\n",
       "</style>\n",
       "<table border=\"1\" class=\"dataframe\">\n",
       "  <thead>\n",
       "    <tr style=\"text-align: right;\">\n",
       "      <th></th>\n",
       "      <th>left_eye_x</th>\n",
       "      <th>right_eye_x</th>\n",
       "      <th>nose_x</th>\n",
       "      <th>left_mouth_x</th>\n",
       "      <th>right_mouth_x</th>\n",
       "      <th>left_eye_y</th>\n",
       "      <th>right_eye_y</th>\n",
       "      <th>nose_y</th>\n",
       "      <th>left_mouth_y</th>\n",
       "      <th>right_mouth_y</th>\n",
       "      <th>gender</th>\n",
       "      <th>smile</th>\n",
       "      <th>glasses</th>\n",
       "      <th>head_pose</th>\n",
       "      <th>path</th>\n",
       "    </tr>\n",
       "  </thead>\n",
       "  <tbody>\n",
       "    <tr>\n",
       "      <th>0</th>\n",
       "      <td>0.429</td>\n",
       "      <td>0.591</td>\n",
       "      <td>0.505</td>\n",
       "      <td>0.425</td>\n",
       "      <td>0.563</td>\n",
       "      <td>0.435</td>\n",
       "      <td>0.453</td>\n",
       "      <td>0.575</td>\n",
       "      <td>0.635</td>\n",
       "      <td>0.651</td>\n",
       "      <td>1.0</td>\n",
       "      <td>2.0</td>\n",
       "      <td>2.0</td>\n",
       "      <td>3.0</td>\n",
       "      <td>lfw_5590/Aaron_Eckhart_0001.jpg</td>\n",
       "    </tr>\n",
       "    <tr>\n",
       "      <th>1</th>\n",
       "      <td>0.405</td>\n",
       "      <td>0.587</td>\n",
       "      <td>0.501</td>\n",
       "      <td>0.375</td>\n",
       "      <td>0.559</td>\n",
       "      <td>0.449</td>\n",
       "      <td>0.471</td>\n",
       "      <td>0.551</td>\n",
       "      <td>0.643</td>\n",
       "      <td>0.659</td>\n",
       "      <td>1.0</td>\n",
       "      <td>1.0</td>\n",
       "      <td>2.0</td>\n",
       "      <td>3.0</td>\n",
       "      <td>lfw_5590/Aaron_Guiel_0001.jpg</td>\n",
       "    </tr>\n",
       "    <tr>\n",
       "      <th>2</th>\n",
       "      <td>0.431</td>\n",
       "      <td>0.591</td>\n",
       "      <td>0.521</td>\n",
       "      <td>0.437</td>\n",
       "      <td>0.591</td>\n",
       "      <td>0.457</td>\n",
       "      <td>0.457</td>\n",
       "      <td>0.563</td>\n",
       "      <td>0.617</td>\n",
       "      <td>0.615</td>\n",
       "      <td>1.0</td>\n",
       "      <td>1.0</td>\n",
       "      <td>2.0</td>\n",
       "      <td>3.0</td>\n",
       "      <td>lfw_5590/Aaron_Peirsol_0001.jpg</td>\n",
       "    </tr>\n",
       "    <tr>\n",
       "      <th>3</th>\n",
       "      <td>0.411</td>\n",
       "      <td>0.585</td>\n",
       "      <td>0.505</td>\n",
       "      <td>0.483</td>\n",
       "      <td>0.589</td>\n",
       "      <td>0.471</td>\n",
       "      <td>0.419</td>\n",
       "      <td>0.551</td>\n",
       "      <td>0.659</td>\n",
       "      <td>0.627</td>\n",
       "      <td>1.0</td>\n",
       "      <td>2.0</td>\n",
       "      <td>2.0</td>\n",
       "      <td>3.0</td>\n",
       "      <td>lfw_5590/Aaron_Pena_0001.jpg</td>\n",
       "    </tr>\n",
       "    <tr>\n",
       "      <th>4</th>\n",
       "      <td>0.409</td>\n",
       "      <td>0.579</td>\n",
       "      <td>0.523</td>\n",
       "      <td>0.401</td>\n",
       "      <td>0.573</td>\n",
       "      <td>0.453</td>\n",
       "      <td>0.451</td>\n",
       "      <td>0.555</td>\n",
       "      <td>0.625</td>\n",
       "      <td>0.623</td>\n",
       "      <td>1.0</td>\n",
       "      <td>1.0</td>\n",
       "      <td>2.0</td>\n",
       "      <td>3.0</td>\n",
       "      <td>lfw_5590/Aaron_Sorkin_0001.jpg</td>\n",
       "    </tr>\n",
       "  </tbody>\n",
       "</table>\n",
       "</div>"
      ],
      "text/plain": [
       "   left_eye_x  right_eye_x  nose_x  left_mouth_x  right_mouth_x  left_eye_y  \\\n",
       "0       0.429        0.591   0.505         0.425          0.563       0.435   \n",
       "1       0.405        0.587   0.501         0.375          0.559       0.449   \n",
       "2       0.431        0.591   0.521         0.437          0.591       0.457   \n",
       "3       0.411        0.585   0.505         0.483          0.589       0.471   \n",
       "4       0.409        0.579   0.523         0.401          0.573       0.453   \n",
       "\n",
       "   right_eye_y  nose_y  left_mouth_y  right_mouth_y  gender  smile  glasses  \\\n",
       "0        0.453   0.575         0.635          0.651     1.0    2.0      2.0   \n",
       "1        0.471   0.551         0.643          0.659     1.0    1.0      2.0   \n",
       "2        0.457   0.563         0.617          0.615     1.0    1.0      2.0   \n",
       "3        0.419   0.551         0.659          0.627     1.0    2.0      2.0   \n",
       "4        0.451   0.555         0.625          0.623     1.0    1.0      2.0   \n",
       "\n",
       "   head_pose                             path  \n",
       "0        3.0  lfw_5590/Aaron_Eckhart_0001.jpg  \n",
       "1        3.0    lfw_5590/Aaron_Guiel_0001.jpg  \n",
       "2        3.0  lfw_5590/Aaron_Peirsol_0001.jpg  \n",
       "3        3.0     lfw_5590/Aaron_Pena_0001.jpg  \n",
       "4        3.0   lfw_5590/Aaron_Sorkin_0001.jpg  "
      ]
     },
     "execution_count": 3,
     "metadata": {},
     "output_type": "execute_result"
    }
   ],
   "source": [
    "train_data.head()"
   ]
  },
  {
   "cell_type": "code",
   "execution_count": 4,
   "metadata": {},
   "outputs": [
    {
     "data": {
      "text/html": [
       "<div>\n",
       "<style scoped>\n",
       "    .dataframe tbody tr th:only-of-type {\n",
       "        vertical-align: middle;\n",
       "    }\n",
       "\n",
       "    .dataframe tbody tr th {\n",
       "        vertical-align: top;\n",
       "    }\n",
       "\n",
       "    .dataframe thead th {\n",
       "        text-align: right;\n",
       "    }\n",
       "</style>\n",
       "<table border=\"1\" class=\"dataframe\">\n",
       "  <thead>\n",
       "    <tr style=\"text-align: right;\">\n",
       "      <th></th>\n",
       "      <th>Id</th>\n",
       "    </tr>\n",
       "  </thead>\n",
       "  <tbody>\n",
       "    <tr>\n",
       "      <th>0</th>\n",
       "      <td>AFLW/0001-image20056.jpg</td>\n",
       "    </tr>\n",
       "    <tr>\n",
       "      <th>1</th>\n",
       "      <td>AFLW/0002-image04733.jpg</td>\n",
       "    </tr>\n",
       "    <tr>\n",
       "      <th>2</th>\n",
       "      <td>AFLW/0003-image07098.jpg</td>\n",
       "    </tr>\n",
       "    <tr>\n",
       "      <th>3</th>\n",
       "      <td>AFLW/0004-image64929.jpg</td>\n",
       "    </tr>\n",
       "    <tr>\n",
       "      <th>4</th>\n",
       "      <td>AFLW/0005-image15367.jpg</td>\n",
       "    </tr>\n",
       "  </tbody>\n",
       "</table>\n",
       "</div>"
      ],
      "text/plain": [
       "                         Id\n",
       "0  AFLW/0001-image20056.jpg\n",
       "1  AFLW/0002-image04733.jpg\n",
       "2  AFLW/0003-image07098.jpg\n",
       "3  AFLW/0004-image64929.jpg\n",
       "4  AFLW/0005-image15367.jpg"
      ]
     },
     "execution_count": 4,
     "metadata": {},
     "output_type": "execute_result"
    }
   ],
   "source": [
    "test_data.head()"
   ]
  },
  {
   "cell_type": "markdown",
   "metadata": {},
   "source": [
    "# 讀取訓練圖片與測試圖片"
   ]
  },
  {
   "cell_type": "code",
   "execution_count": 5,
   "metadata": {},
   "outputs": [],
   "source": [
    "# 可以調整要壓縮的圖片像素\n",
    "RESIZE = 40"
   ]
  },
  {
   "cell_type": "code",
   "execution_count": 6,
   "metadata": {},
   "outputs": [],
   "source": [
    "train_data_x = np.ndarray((len(train_data), RESIZE, RESIZE, 3))\n",
    "train_data_y = np.ndarray((len(train_data), 14))\n",
    "test_data_x = np.ndarray((len(test_data), RESIZE, RESIZE, 3))\n"
   ]
  },
  {
   "cell_type": "code",
   "execution_count": 7,
   "metadata": {},
   "outputs": [],
   "source": [
    "# 讀取圖片的function\n",
    "# Reads an image from a file, decodes it into a dense tensor, and resizes it to a fixed shape.\n",
    "def _parse_function(filename):\n",
    "    image_string = tf.io.read_file(filename)\n",
    "    image_decoded = tf.image.decode_jpeg(image_string, channels=3) # Channels needed because some test images are b/w\n",
    "    image_resized = tf.image.resize(image_decoded, [RESIZE, RESIZE])\n",
    "    return image_resized"
   ]
  },
  {
   "cell_type": "code",
   "execution_count": 8,
   "metadata": {},
   "outputs": [
    {
     "data": {
      "text/plain": [
       "10000"
      ]
     },
     "execution_count": 8,
     "metadata": {},
     "output_type": "execute_result"
    }
   ],
   "source": [
    "len(train_data)"
   ]
  },
  {
   "cell_type": "code",
   "execution_count": 9,
   "metadata": {},
   "outputs": [
    {
     "name": "stdout",
     "output_type": "stream",
     "text": [
      "Processed 0 of 10000\n",
      "Processed 2000 of 10000\n",
      "Processed 4000 of 10000\n",
      "Processed 6000 of 10000\n",
      "Processed 8000 of 10000\n"
     ]
    }
   ],
   "source": [
    "# 讀取路徑後，將讀取的圖片調整大小，並存入train_data_x, train_data_y\n",
    "for i, row in enumerate(train_data.values):\n",
    "    image = _parse_function(row[14])\n",
    "\n",
    "    train_data_x[i] = image\n",
    "    train_data_y[i] = row[:14]\n",
    "    if i%2000 == 0: print('Processed {} of {}'.format(i, len(train_data)))"
   ]
  },
  {
   "cell_type": "code",
   "execution_count": 10,
   "metadata": {},
   "outputs": [
    {
     "name": "stdout",
     "output_type": "stream",
     "text": [
      "Processed 0 of 2995\n",
      "Processed 2000 of 2995\n"
     ]
    }
   ],
   "source": [
    "# # 讀取路徑後，將讀取的圖片調整大小，test_data_x\n",
    "for i, row in enumerate(test_data.values):\n",
    "    image = _parse_function(row[0])\n",
    "    test_data_x[i] = image\n",
    "    if i%2000 == 0: print('Processed {} of {}'.format(i, len(test_data)))"
   ]
  },
  {
   "cell_type": "code",
   "execution_count": 12,
   "metadata": {},
   "outputs": [
    {
     "data": {
      "text/plain": [
       "Text(3,3,'Predicted smile: 2.0 ')"
      ]
     },
     "execution_count": 12,
     "metadata": {},
     "output_type": "execute_result"
    },
    {
     "data": {
      "image/png": "[encoded data removed]",
      "text/plain": [
       "<Figure size 432x288 with 1 Axes>"
      ]
     },
     "metadata": {
      "needs_background": "light"
     },
     "output_type": "display_data"
    }
   ],
   "source": [
    "# 畫出重新調整後的圖片\n",
    "font = {'family': 'serif', 'color':  'white', 'weight': 'bold', 'size': 16}\n",
    "plt.imshow(train_data_x[0]/255)\n",
    "plt.scatter(train_data_y[0,3] * RESIZE, train_data_y[0,8] * RESIZE, 500, marker='x', color='red', linewidth=3)\n",
    "plt.scatter(train_data_y[0,4] * RESIZE, train_data_y[0,9] * RESIZE, 500, marker='x', color='red', linewidth=3)\n",
    "plt.text(3, 3, 'Predicted smile: {} '.format(train_data_y[0,11]),fontdict=font)"
   ]
  },
  {
   "cell_type": "markdown",
   "metadata": {},
   "source": [
    "# 資料前處理\n",
    "- 資料並不是讀進來就可以立即使用，有些參數需要前處理\n",
    "- 例如，在本資料中`gender=1`為男性，`gender=2`為女性，如果要做binary classification需要轉換成`0`或`1`"
   ]
  },
  {
   "cell_type": "code",
   "execution_count": null,
   "metadata": {},
   "outputs": [],
   "source": []
  },
  {
   "cell_type": "markdown",
   "metadata": {},
   "source": [
    "# 建立模型\n",
    "- 自行建立模型，並且以mutlitask任務的架構\n",
    "- 可以參考https://www.tensorflow.org/guide/keras/functional"
   ]
  },
  {
   "cell_type": "code",
   "execution_count": null,
   "metadata": {},
   "outputs": [],
   "source": []
  },
  {
   "cell_type": "markdown",
   "metadata": {},
   "source": [
    "# 匯出預測結果\n",
    "- 利用pandas.Dataframe.to_csv()來匯出上傳到kaggle競賽\n",
    "- 對於**binary classification**問題，欄位必須要有`Id`與`Category`\n",
    "- 對於**regression**問題，欄位必須要有`Id`與`Expected`\n",
    "- `Id`欄位就是測試資料的圖片位置例如:`AFLW/0001-image20056.jpg`\n",
    "- 注意，對於預測左嘴角與右嘴角時需要把**XY值相加**，並分別上傳"
   ]
  },
  {
   "cell_type": "code",
   "execution_count": null,
   "metadata": {},
   "outputs": [],
   "source": [
    "left_mouth_corner_sum = None\n",
    "right_mouth_corner_sum = None"
   ]
  },
  {
   "cell_type": "code",
   "execution_count": null,
   "metadata": {},
   "outputs": [],
   "source": [
    "# 將預測的結果放入，建立DataFrame物件，此為`微笑`預測結果\n",
    "tmp1 = pd.DataFrame({'Id':test_data['path'],'Category': None})"
   ]
  },
  {
   "cell_type": "code",
   "execution_count": null,
   "metadata": {},
   "outputs": [],
   "source": [
    "# 將預測的結果放入，建立DataFrame物件，此為`左嘴角`預測結果\n",
    "tmp2 = pd.DataFrame({'Id':test_data['path'],'Expected': left_mouth_corner_sum})"
   ]
  },
  {
   "cell_type": "code",
   "execution_count": null,
   "metadata": {},
   "outputs": [],
   "source": [
    "# 將預測的結果放入，建立DataFrame物件，此為`右嘴角`預測結果\n",
    "tmp3 = pd.DataFrame({'Id':test_data['path'],'Expected': right_mouth_corner_sum})"
   ]
  },
  {
   "cell_type": "code",
   "execution_count": null,
   "metadata": {},
   "outputs": [],
   "source": [
    "tmp1.to_csv(\"test_smile_result.csv\", index=False)"
   ]
  },
  {
   "cell_type": "code",
   "execution_count": null,
   "metadata": {},
   "outputs": [],
   "source": [
    "tmp2.to_csv(\"test_left_mouth_result.csv\", index=False)"
   ]
  },
  {
   "cell_type": "code",
   "execution_count": null,
   "metadata": {},
   "outputs": [],
   "source": [
    "tmp3.to_csv(\"test_right_mouth_result.csv\", index=False)"
   ]
  }
 ],
 "metadata": {
  "kernelspec": {
   "display_name": "Python 3.7.3 64-bit",
   "language": "python",
   "name": "python37364bit7b58821a064a4bc4bdd064f222b33e8c"
  },
  "language_info": {
   "codemirror_mode": {
    "name": "ipython",
    "version": 3
   },
   "file_extension": ".py",
   "mimetype": "text/x-python",
   "name": "python",
   "nbconvert_exporter": "python",
   "pygments_lexer": "ipython3",
   "version": "3.7.3"
  }
 },
 "nbformat": 4,
 "nbformat_minor": 4
}
